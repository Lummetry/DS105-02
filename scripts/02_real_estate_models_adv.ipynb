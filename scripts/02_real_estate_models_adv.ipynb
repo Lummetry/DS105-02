{
 "cells": [
  {
   "cell_type": "code",
   "execution_count": 1,
   "id": "9c9f0291",
   "metadata": {},
   "outputs": [],
   "source": [
    "import numpy as np\n",
    "import pandas as pd\n",
    "\n",
    "import matplotlib.pyplot as plt\n",
    "%matplotlib inline\n",
    "\n",
    "from utils import set_pretty_prints, load_dataset"
   ]
  },
  {
   "cell_type": "code",
   "execution_count": 2,
   "id": "16a34047",
   "metadata": {},
   "outputs": [],
   "source": [
    "set_pretty_prints()"
   ]
  },
  {
   "cell_type": "code",
   "execution_count": 3,
   "id": "0d3226dc",
   "metadata": {},
   "outputs": [],
   "source": [
    "df = load_dataset('imobiliare.ro')"
   ]
  },
  {
   "cell_type": "code",
   "execution_count": 4,
   "id": "e4c9c906",
   "metadata": {},
   "outputs": [
    {
     "data": {
      "text/html": [
       "<div>\n",
       "<style scoped>\n",
       "    .dataframe tbody tr th:only-of-type {\n",
       "        vertical-align: middle;\n",
       "    }\n",
       "\n",
       "    .dataframe tbody tr th {\n",
       "        vertical-align: top;\n",
       "    }\n",
       "\n",
       "    .dataframe thead th {\n",
       "        text-align: right;\n",
       "    }\n",
       "</style>\n",
       "<table border=\"1\" class=\"dataframe\">\n",
       "  <thead>\n",
       "    <tr style=\"text-align: right;\">\n",
       "      <th></th>\n",
       "      <th>Unnamed: 0</th>\n",
       "      <th>nr cam</th>\n",
       "      <th>mp</th>\n",
       "      <th>parter</th>\n",
       "      <th>et1-2</th>\n",
       "      <th>et3+</th>\n",
       "      <th>etaj max</th>\n",
       "      <th>typ_decom</th>\n",
       "      <th>bloc nou</th>\n",
       "      <th>Price/Surface</th>\n",
       "      <th>Price</th>\n",
       "      <th>WebPage</th>\n",
       "    </tr>\n",
       "  </thead>\n",
       "  <tbody>\n",
       "    <tr>\n",
       "      <th>0</th>\n",
       "      <td>1</td>\n",
       "      <td>2</td>\n",
       "      <td>56.00</td>\n",
       "      <td>0</td>\n",
       "      <td>1</td>\n",
       "      <td>0</td>\n",
       "      <td>2</td>\n",
       "      <td>1</td>\n",
       "      <td>1</td>\n",
       "      <td>639.29</td>\n",
       "      <td>35800</td>\n",
       "      <td>https://www.imobiliare.ro/vanzare-apartamente/bucuresti/rahova/apartament-de-vanzare-2-camere-XAU700006?lista=2349706&amp;listing=1</td>\n",
       "    </tr>\n",
       "    <tr>\n",
       "      <th>1</th>\n",
       "      <td>2</td>\n",
       "      <td>2</td>\n",
       "      <td>57.00</td>\n",
       "      <td>0</td>\n",
       "      <td>1</td>\n",
       "      <td>0</td>\n",
       "      <td>2</td>\n",
       "      <td>0</td>\n",
       "      <td>1</td>\n",
       "      <td>628.07</td>\n",
       "      <td>35800</td>\n",
       "      <td>https://www.imobiliare.ro/vanzare-apartamente/bucuresti/rahova/apartament-de-vanzare-2-camere-XAG00001O?lista=2349706&amp;listing=1</td>\n",
       "    </tr>\n",
       "    <tr>\n",
       "      <th>2</th>\n",
       "      <td>3</td>\n",
       "      <td>2</td>\n",
       "      <td>67.00</td>\n",
       "      <td>0</td>\n",
       "      <td>1</td>\n",
       "      <td>0</td>\n",
       "      <td>2</td>\n",
       "      <td>1</td>\n",
       "      <td>1</td>\n",
       "      <td>591.04</td>\n",
       "      <td>39600</td>\n",
       "      <td>https://www.imobiliare.ro/vanzare-apartamente/bucuresti/rahova/apartament-de-vanzare-2-camere-XAG00001K?lista=2349706&amp;listing=1</td>\n",
       "    </tr>\n",
       "    <tr>\n",
       "      <th>3</th>\n",
       "      <td>4</td>\n",
       "      <td>1</td>\n",
       "      <td>48.00</td>\n",
       "      <td>0</td>\n",
       "      <td>1</td>\n",
       "      <td>0</td>\n",
       "      <td>2</td>\n",
       "      <td>1</td>\n",
       "      <td>1</td>\n",
       "      <td>620.83</td>\n",
       "      <td>29800</td>\n",
       "      <td>https://www.imobiliare.ro/vanzare-garsoniere/bucuresti/rahova/garsoniera-de-vanzare-XAG00001J?lista=2349706&amp;listing=1</td>\n",
       "    </tr>\n",
       "    <tr>\n",
       "      <th>4</th>\n",
       "      <td>5</td>\n",
       "      <td>3</td>\n",
       "      <td>89.60</td>\n",
       "      <td>0</td>\n",
       "      <td>0</td>\n",
       "      <td>1</td>\n",
       "      <td>3</td>\n",
       "      <td>1</td>\n",
       "      <td>1</td>\n",
       "      <td>1260.04</td>\n",
       "      <td>112900</td>\n",
       "      <td>https://www.imobiliare.ro/vanzare-apartamente/bucuresti/p-ta-presei-libere/apartament-de-vanzare-3-camere-XB0V00003?lista=2349706&amp;listing=1</td>\n",
       "    </tr>\n",
       "    <tr>\n",
       "      <th>...</th>\n",
       "      <td>...</td>\n",
       "      <td>...</td>\n",
       "      <td>...</td>\n",
       "      <td>...</td>\n",
       "      <td>...</td>\n",
       "      <td>...</td>\n",
       "      <td>...</td>\n",
       "      <td>...</td>\n",
       "      <td>...</td>\n",
       "      <td>...</td>\n",
       "      <td>...</td>\n",
       "      <td>...</td>\n",
       "    </tr>\n",
       "    <tr>\n",
       "      <th>9892</th>\n",
       "      <td>9894</td>\n",
       "      <td>4</td>\n",
       "      <td>90.00</td>\n",
       "      <td>0</td>\n",
       "      <td>0</td>\n",
       "      <td>1</td>\n",
       "      <td>8</td>\n",
       "      <td>0</td>\n",
       "      <td>0</td>\n",
       "      <td>944.44</td>\n",
       "      <td>85000</td>\n",
       "      <td>https://www.imobiliare.ro/vanzare-apartamente/bucuresti/crangasi/apartament-de-vanzare-4-camere-X5LL10023?lista=2349706&amp;listing=1</td>\n",
       "    </tr>\n",
       "    <tr>\n",
       "      <th>9893</th>\n",
       "      <td>9895</td>\n",
       "      <td>3</td>\n",
       "      <td>85.00</td>\n",
       "      <td>0</td>\n",
       "      <td>0</td>\n",
       "      <td>1</td>\n",
       "      <td>8</td>\n",
       "      <td>1</td>\n",
       "      <td>0</td>\n",
       "      <td>1588.22</td>\n",
       "      <td>134999</td>\n",
       "      <td>https://www.imobiliare.ro/vanzare-apartamente/bucuresti/central/apartament-de-vanzare-3-camere-X9I6100JP?lista=2349706&amp;listing=1</td>\n",
       "    </tr>\n",
       "    <tr>\n",
       "      <th>9894</th>\n",
       "      <td>9896</td>\n",
       "      <td>2</td>\n",
       "      <td>48.00</td>\n",
       "      <td>0</td>\n",
       "      <td>0</td>\n",
       "      <td>1</td>\n",
       "      <td>4</td>\n",
       "      <td>0</td>\n",
       "      <td>0</td>\n",
       "      <td>1229.17</td>\n",
       "      <td>59000</td>\n",
       "      <td>https://www.imobiliare.ro/vanzare-apartamente/bucuresti/apusului/apartament-de-vanzare-2-camere-XBJG000HP?lista=2349706&amp;listing=1</td>\n",
       "    </tr>\n",
       "    <tr>\n",
       "      <th>9895</th>\n",
       "      <td>9897</td>\n",
       "      <td>4</td>\n",
       "      <td>83.81</td>\n",
       "      <td>0</td>\n",
       "      <td>0</td>\n",
       "      <td>1</td>\n",
       "      <td>3</td>\n",
       "      <td>1</td>\n",
       "      <td>1</td>\n",
       "      <td>1312.49</td>\n",
       "      <td>110000</td>\n",
       "      <td>https://www.imobiliare.ro/vanzare-apartamente/bucuresti/theodor-pallady/penthouse-de-vanzare-4-camere-XANO10193?lista=2349706&amp;listing=1</td>\n",
       "    </tr>\n",
       "    <tr>\n",
       "      <th>9896</th>\n",
       "      <td>9898</td>\n",
       "      <td>1</td>\n",
       "      <td>35.00</td>\n",
       "      <td>0</td>\n",
       "      <td>0</td>\n",
       "      <td>1</td>\n",
       "      <td>4</td>\n",
       "      <td>1</td>\n",
       "      <td>1</td>\n",
       "      <td>1757.14</td>\n",
       "      <td>61500</td>\n",
       "      <td>https://www.imobiliare.ro/vanzare-garsoniere/bucuresti/politehnica/garsoniera-de-vanzare-X17L10040?lista=2349706&amp;listing=1</td>\n",
       "    </tr>\n",
       "  </tbody>\n",
       "</table>\n",
       "<p>9897 rows × 12 columns</p>\n",
       "</div>"
      ],
      "text/plain": [
       "      Unnamed: 0  nr cam     mp  parter  et1-2  et3+  etaj max  typ_decom  bloc nou  Price/Surface   Price                                                                                                                                      WebPage\n",
       "0              1       2  56.00       0      1     0         2          1         1         639.29   35800              https://www.imobiliare.ro/vanzare-apartamente/bucuresti/rahova/apartament-de-vanzare-2-camere-XAU700006?lista=2349706&listing=1\n",
       "1              2       2  57.00       0      1     0         2          0         1         628.07   35800              https://www.imobiliare.ro/vanzare-apartamente/bucuresti/rahova/apartament-de-vanzare-2-camere-XAG00001O?lista=2349706&listing=1\n",
       "2              3       2  67.00       0      1     0         2          1         1         591.04   39600              https://www.imobiliare.ro/vanzare-apartamente/bucuresti/rahova/apartament-de-vanzare-2-camere-XAG00001K?lista=2349706&listing=1\n",
       "3              4       1  48.00       0      1     0         2          1         1         620.83   29800                        https://www.imobiliare.ro/vanzare-garsoniere/bucuresti/rahova/garsoniera-de-vanzare-XAG00001J?lista=2349706&listing=1\n",
       "4              5       3  89.60       0      0     1         3          1         1        1260.04  112900  https://www.imobiliare.ro/vanzare-apartamente/bucuresti/p-ta-presei-libere/apartament-de-vanzare-3-camere-XB0V00003?lista=2349706&listing=1\n",
       "...          ...     ...    ...     ...    ...   ...       ...        ...       ...            ...     ...                                                                                                                                          ...\n",
       "9892        9894       4  90.00       0      0     1         8          0         0         944.44   85000            https://www.imobiliare.ro/vanzare-apartamente/bucuresti/crangasi/apartament-de-vanzare-4-camere-X5LL10023?lista=2349706&listing=1\n",
       "9893        9895       3  85.00       0      0     1         8          1         0        1588.22  134999             https://www.imobiliare.ro/vanzare-apartamente/bucuresti/central/apartament-de-vanzare-3-camere-X9I6100JP?lista=2349706&listing=1\n",
       "9894        9896       2  48.00       0      0     1         4          0         0        1229.17   59000            https://www.imobiliare.ro/vanzare-apartamente/bucuresti/apusului/apartament-de-vanzare-2-camere-XBJG000HP?lista=2349706&listing=1\n",
       "9895        9897       4  83.81       0      0     1         3          1         1        1312.49  110000      https://www.imobiliare.ro/vanzare-apartamente/bucuresti/theodor-pallady/penthouse-de-vanzare-4-camere-XANO10193?lista=2349706&listing=1\n",
       "9896        9898       1  35.00       0      0     1         4          1         1        1757.14   61500                   https://www.imobiliare.ro/vanzare-garsoniere/bucuresti/politehnica/garsoniera-de-vanzare-X17L10040?lista=2349706&listing=1\n",
       "\n",
       "[9897 rows x 12 columns]"
      ]
     },
     "execution_count": 4,
     "metadata": {},
     "output_type": "execute_result"
    }
   ],
   "source": [
    "df"
   ]
  },
  {
   "cell_type": "code",
   "execution_count": 6,
   "id": "fbe683b7",
   "metadata": {},
   "outputs": [],
   "source": [
    "y_sqmp = df[\"Price/Surface\"]\n",
    "y_price = df['Price']\n",
    "\n",
    "# TODO: select viable features\n",
    "START = 1\n",
    "END = 9\n",
    "X = df.iloc[:,START:END]\n"
   ]
  },
  {
   "cell_type": "code",
   "execution_count": 7,
   "id": "e075d5a0",
   "metadata": {},
   "outputs": [
    {
     "data": {
      "text/html": [
       "<div>\n",
       "<style scoped>\n",
       "    .dataframe tbody tr th:only-of-type {\n",
       "        vertical-align: middle;\n",
       "    }\n",
       "\n",
       "    .dataframe tbody tr th {\n",
       "        vertical-align: top;\n",
       "    }\n",
       "\n",
       "    .dataframe thead th {\n",
       "        text-align: right;\n",
       "    }\n",
       "</style>\n",
       "<table border=\"1\" class=\"dataframe\">\n",
       "  <thead>\n",
       "    <tr style=\"text-align: right;\">\n",
       "      <th></th>\n",
       "      <th>nr cam</th>\n",
       "      <th>mp</th>\n",
       "      <th>parter</th>\n",
       "      <th>et1-2</th>\n",
       "      <th>et3+</th>\n",
       "      <th>etaj max</th>\n",
       "      <th>typ_decom</th>\n",
       "      <th>bloc nou</th>\n",
       "    </tr>\n",
       "  </thead>\n",
       "  <tbody>\n",
       "    <tr>\n",
       "      <th>0</th>\n",
       "      <td>2</td>\n",
       "      <td>56.00</td>\n",
       "      <td>0</td>\n",
       "      <td>1</td>\n",
       "      <td>0</td>\n",
       "      <td>2</td>\n",
       "      <td>1</td>\n",
       "      <td>1</td>\n",
       "    </tr>\n",
       "    <tr>\n",
       "      <th>1</th>\n",
       "      <td>2</td>\n",
       "      <td>57.00</td>\n",
       "      <td>0</td>\n",
       "      <td>1</td>\n",
       "      <td>0</td>\n",
       "      <td>2</td>\n",
       "      <td>0</td>\n",
       "      <td>1</td>\n",
       "    </tr>\n",
       "    <tr>\n",
       "      <th>2</th>\n",
       "      <td>2</td>\n",
       "      <td>67.00</td>\n",
       "      <td>0</td>\n",
       "      <td>1</td>\n",
       "      <td>0</td>\n",
       "      <td>2</td>\n",
       "      <td>1</td>\n",
       "      <td>1</td>\n",
       "    </tr>\n",
       "    <tr>\n",
       "      <th>3</th>\n",
       "      <td>1</td>\n",
       "      <td>48.00</td>\n",
       "      <td>0</td>\n",
       "      <td>1</td>\n",
       "      <td>0</td>\n",
       "      <td>2</td>\n",
       "      <td>1</td>\n",
       "      <td>1</td>\n",
       "    </tr>\n",
       "    <tr>\n",
       "      <th>4</th>\n",
       "      <td>3</td>\n",
       "      <td>89.60</td>\n",
       "      <td>0</td>\n",
       "      <td>0</td>\n",
       "      <td>1</td>\n",
       "      <td>3</td>\n",
       "      <td>1</td>\n",
       "      <td>1</td>\n",
       "    </tr>\n",
       "    <tr>\n",
       "      <th>...</th>\n",
       "      <td>...</td>\n",
       "      <td>...</td>\n",
       "      <td>...</td>\n",
       "      <td>...</td>\n",
       "      <td>...</td>\n",
       "      <td>...</td>\n",
       "      <td>...</td>\n",
       "      <td>...</td>\n",
       "    </tr>\n",
       "    <tr>\n",
       "      <th>9892</th>\n",
       "      <td>4</td>\n",
       "      <td>90.00</td>\n",
       "      <td>0</td>\n",
       "      <td>0</td>\n",
       "      <td>1</td>\n",
       "      <td>8</td>\n",
       "      <td>0</td>\n",
       "      <td>0</td>\n",
       "    </tr>\n",
       "    <tr>\n",
       "      <th>9893</th>\n",
       "      <td>3</td>\n",
       "      <td>85.00</td>\n",
       "      <td>0</td>\n",
       "      <td>0</td>\n",
       "      <td>1</td>\n",
       "      <td>8</td>\n",
       "      <td>1</td>\n",
       "      <td>0</td>\n",
       "    </tr>\n",
       "    <tr>\n",
       "      <th>9894</th>\n",
       "      <td>2</td>\n",
       "      <td>48.00</td>\n",
       "      <td>0</td>\n",
       "      <td>0</td>\n",
       "      <td>1</td>\n",
       "      <td>4</td>\n",
       "      <td>0</td>\n",
       "      <td>0</td>\n",
       "    </tr>\n",
       "    <tr>\n",
       "      <th>9895</th>\n",
       "      <td>4</td>\n",
       "      <td>83.81</td>\n",
       "      <td>0</td>\n",
       "      <td>0</td>\n",
       "      <td>1</td>\n",
       "      <td>3</td>\n",
       "      <td>1</td>\n",
       "      <td>1</td>\n",
       "    </tr>\n",
       "    <tr>\n",
       "      <th>9896</th>\n",
       "      <td>1</td>\n",
       "      <td>35.00</td>\n",
       "      <td>0</td>\n",
       "      <td>0</td>\n",
       "      <td>1</td>\n",
       "      <td>4</td>\n",
       "      <td>1</td>\n",
       "      <td>1</td>\n",
       "    </tr>\n",
       "  </tbody>\n",
       "</table>\n",
       "<p>9897 rows × 8 columns</p>\n",
       "</div>"
      ],
      "text/plain": [
       "      nr cam     mp  parter  et1-2  et3+  etaj max  typ_decom  bloc nou\n",
       "0          2  56.00       0      1     0         2          1         1\n",
       "1          2  57.00       0      1     0         2          0         1\n",
       "2          2  67.00       0      1     0         2          1         1\n",
       "3          1  48.00       0      1     0         2          1         1\n",
       "4          3  89.60       0      0     1         3          1         1\n",
       "...      ...    ...     ...    ...   ...       ...        ...       ...\n",
       "9892       4  90.00       0      0     1         8          0         0\n",
       "9893       3  85.00       0      0     1         8          1         0\n",
       "9894       2  48.00       0      0     1         4          0         0\n",
       "9895       4  83.81       0      0     1         3          1         1\n",
       "9896       1  35.00       0      0     1         4          1         1\n",
       "\n",
       "[9897 rows x 8 columns]"
      ]
     },
     "execution_count": 7,
     "metadata": {},
     "output_type": "execute_result"
    }
   ],
   "source": [
    "X"
   ]
  },
  {
   "cell_type": "code",
   "execution_count": 8,
   "id": "72b9f303",
   "metadata": {},
   "outputs": [
    {
     "data": {
      "text/plain": [
       "0        35800\n",
       "1        35800\n",
       "2        39600\n",
       "3        29800\n",
       "4       112900\n",
       "         ...  \n",
       "9892     85000\n",
       "9893    134999\n",
       "9894     59000\n",
       "9895    110000\n",
       "9896     61500\n",
       "Name: Price, Length: 9897, dtype: int64"
      ]
     },
     "execution_count": 8,
     "metadata": {},
     "output_type": "execute_result"
    }
   ],
   "source": [
    "y_price"
   ]
  },
  {
   "cell_type": "markdown",
   "id": "d7e967ae",
   "metadata": {},
   "source": [
    "## Exploration"
   ]
  },
  {
   "cell_type": "code",
   "execution_count": 9,
   "id": "ba33c821",
   "metadata": {},
   "outputs": [
    {
     "data": {
      "text/plain": [
       "Text(0.5, 1.0, 'Distribution of nr of rooms per apartment')"
      ]
     },
     "execution_count": 9,
     "metadata": {},
     "output_type": "execute_result"
    },
    {
     "data": {
      "image/png": "[encoded data removed]",
      "text/plain": [
       "<Figure size 640x480 with 1 Axes>"
      ]
     },
     "metadata": {},
     "output_type": "display_data"
    }
   ],
   "source": [
    "field = 'nr cam'\n",
    "x_label = 'Nr rooms'\n",
    "title = 'Distribution of nr of rooms per apartment'\n",
    "X[field].hist(bins=20)\n",
    "plt.xlabel(x_label)\n",
    "plt.title(title)"
   ]
  },
  {
   "cell_type": "code",
   "execution_count": 10,
   "id": "25b90dca",
   "metadata": {},
   "outputs": [
    {
     "data": {
      "text/plain": [
       "Text(0.5, 1.0, 'Distribution of sqm per property')"
      ]
     },
     "execution_count": 10,
     "metadata": {},
     "output_type": "execute_result"
    },
    {
     "data": {
      "image/png": "[encoded data removed]",
      "text/plain": [
       "<Figure size 640x480 with 1 Axes>"
      ]
     },
     "metadata": {},
     "output_type": "display_data"
    }
   ],
   "source": [
    "# TODO: Analyse a few more features\n",
    "field = 'mp'\n",
    "x_label = 'Square meters per property'\n",
    "title = 'Distribution of sqm per property'\n",
    "X[field].hist(bins=20)\n",
    "plt.xlabel(x_label)\n",
    "plt.title(title)"
   ]
  },
  {
   "cell_type": "code",
   "execution_count": 11,
   "id": "ab0395cb",
   "metadata": {},
   "outputs": [
    {
     "data": {
      "text/plain": [
       "Text(0.5, 0, 'Price')"
      ]
     },
     "execution_count": 11,
     "metadata": {},
     "output_type": "execute_result"
    },
    {
     "data": {
      "image/png": "[encoded data removed]",
      "text/plain": [
       "<Figure size 640x480 with 1 Axes>"
      ]
     },
     "metadata": {},
     "output_type": "display_data"
    }
   ],
   "source": [
    "# TODO: Analyse target distribution\n",
    "target = y_price\n",
    "title = 'Distribution of price'\n",
    "x_label = 'Price'\n",
    "plt.hist(target, bins=50)\n",
    "plt.title(title)\n",
    "plt.xlabel(x_label)"
   ]
  },
  {
   "cell_type": "code",
   "execution_count": 12,
   "id": "5afa122f",
   "metadata": {},
   "outputs": [
    {
     "data": {
      "text/plain": [
       "Text(0.5, 0, 'Price')"
      ]
     },
     "execution_count": 12,
     "metadata": {},
     "output_type": "execute_result"
    },
    {
     "data": {
      "image/png": "[encoded data removed]",
      "text/plain": [
       "<Figure size 640x480 with 1 Axes>"
      ]
     },
     "metadata": {},
     "output_type": "display_data"
    }
   ],
   "source": [
    "# TODO: Re-display the target distribution\n",
    "target = y_price\n",
    "title = \"Distribution of price in log scale\"\n",
    "x_label = \"Price\"\n",
    "plot_param = 'log'\n",
    "plot_param_value = True\n",
    "kwargs = {plot_param : plot_param_value}\n",
    "plt.hist(target, bins=50, **kwargs)\n",
    "plt.title(title)\n",
    "plt.xlabel(x_label)"
   ]
  },
  {
   "cell_type": "code",
   "execution_count": 13,
   "id": "ce209002",
   "metadata": {},
   "outputs": [
    {
     "data": {
      "text/html": [
       "<div>\n",
       "<style scoped>\n",
       "    .dataframe tbody tr th:only-of-type {\n",
       "        vertical-align: middle;\n",
       "    }\n",
       "\n",
       "    .dataframe tbody tr th {\n",
       "        vertical-align: top;\n",
       "    }\n",
       "\n",
       "    .dataframe thead th {\n",
       "        text-align: right;\n",
       "    }\n",
       "</style>\n",
       "<table border=\"1\" class=\"dataframe\">\n",
       "  <thead>\n",
       "    <tr style=\"text-align: right;\">\n",
       "      <th></th>\n",
       "      <th>nr cam</th>\n",
       "      <th>mp</th>\n",
       "      <th>parter</th>\n",
       "      <th>et1-2</th>\n",
       "      <th>et3+</th>\n",
       "      <th>etaj max</th>\n",
       "      <th>typ_decom</th>\n",
       "      <th>bloc nou</th>\n",
       "    </tr>\n",
       "  </thead>\n",
       "  <tbody>\n",
       "    <tr>\n",
       "      <th>nr cam</th>\n",
       "      <td>1.000000</td>\n",
       "      <td>0.777186</td>\n",
       "      <td>0.003816</td>\n",
       "      <td>-0.067465</td>\n",
       "      <td>0.062328</td>\n",
       "      <td>0.073172</td>\n",
       "      <td>-0.000365</td>\n",
       "      <td>-0.139376</td>\n",
       "    </tr>\n",
       "    <tr>\n",
       "      <th>mp</th>\n",
       "      <td>0.777186</td>\n",
       "      <td>1.000000</td>\n",
       "      <td>0.000869</td>\n",
       "      <td>-0.056167</td>\n",
       "      <td>0.053421</td>\n",
       "      <td>0.065719</td>\n",
       "      <td>0.087754</td>\n",
       "      <td>0.006321</td>\n",
       "    </tr>\n",
       "    <tr>\n",
       "      <th>parter</th>\n",
       "      <td>0.003816</td>\n",
       "      <td>0.000869</td>\n",
       "      <td>1.000000</td>\n",
       "      <td>-0.285501</td>\n",
       "      <td>-0.388748</td>\n",
       "      <td>-0.448826</td>\n",
       "      <td>0.004277</td>\n",
       "      <td>-0.002453</td>\n",
       "    </tr>\n",
       "    <tr>\n",
       "      <th>et1-2</th>\n",
       "      <td>-0.067465</td>\n",
       "      <td>-0.056167</td>\n",
       "      <td>-0.285501</td>\n",
       "      <td>1.000000</td>\n",
       "      <td>-0.772008</td>\n",
       "      <td>-0.500485</td>\n",
       "      <td>0.065535</td>\n",
       "      <td>0.187789</td>\n",
       "    </tr>\n",
       "    <tr>\n",
       "      <th>et3+</th>\n",
       "      <td>0.062328</td>\n",
       "      <td>0.053421</td>\n",
       "      <td>-0.388748</td>\n",
       "      <td>-0.772008</td>\n",
       "      <td>1.000000</td>\n",
       "      <td>0.778814</td>\n",
       "      <td>-0.065839</td>\n",
       "      <td>-0.178905</td>\n",
       "    </tr>\n",
       "    <tr>\n",
       "      <th>etaj max</th>\n",
       "      <td>0.073172</td>\n",
       "      <td>0.065719</td>\n",
       "      <td>-0.448826</td>\n",
       "      <td>-0.500485</td>\n",
       "      <td>0.778814</td>\n",
       "      <td>1.000000</td>\n",
       "      <td>-0.071077</td>\n",
       "      <td>-0.193046</td>\n",
       "    </tr>\n",
       "    <tr>\n",
       "      <th>typ_decom</th>\n",
       "      <td>-0.000365</td>\n",
       "      <td>0.087754</td>\n",
       "      <td>0.004277</td>\n",
       "      <td>0.065535</td>\n",
       "      <td>-0.065839</td>\n",
       "      <td>-0.071077</td>\n",
       "      <td>1.000000</td>\n",
       "      <td>0.213843</td>\n",
       "    </tr>\n",
       "    <tr>\n",
       "      <th>bloc nou</th>\n",
       "      <td>-0.139376</td>\n",
       "      <td>0.006321</td>\n",
       "      <td>-0.002453</td>\n",
       "      <td>0.187789</td>\n",
       "      <td>-0.178905</td>\n",
       "      <td>-0.193046</td>\n",
       "      <td>0.213843</td>\n",
       "      <td>1.000000</td>\n",
       "    </tr>\n",
       "  </tbody>\n",
       "</table>\n",
       "</div>"
      ],
      "text/plain": [
       "             nr cam        mp    parter     et1-2      et3+  etaj max  typ_decom  bloc nou\n",
       "nr cam     1.000000  0.777186  0.003816 -0.067465  0.062328  0.073172  -0.000365 -0.139376\n",
       "mp         0.777186  1.000000  0.000869 -0.056167  0.053421  0.065719   0.087754  0.006321\n",
       "parter     0.003816  0.000869  1.000000 -0.285501 -0.388748 -0.448826   0.004277 -0.002453\n",
       "et1-2     -0.067465 -0.056167 -0.285501  1.000000 -0.772008 -0.500485   0.065535  0.187789\n",
       "et3+       0.062328  0.053421 -0.388748 -0.772008  1.000000  0.778814  -0.065839 -0.178905\n",
       "etaj max   0.073172  0.065719 -0.448826 -0.500485  0.778814  1.000000  -0.071077 -0.193046\n",
       "typ_decom -0.000365  0.087754  0.004277  0.065535 -0.065839 -0.071077   1.000000  0.213843\n",
       "bloc nou  -0.139376  0.006321 -0.002453  0.187789 -0.178905 -0.193046   0.213843  1.000000"
      ]
     },
     "execution_count": 13,
     "metadata": {},
     "output_type": "execute_result"
    }
   ],
   "source": [
    "X.corr()"
   ]
  },
  {
   "cell_type": "code",
   "execution_count": 14,
   "id": "7c643f28",
   "metadata": {},
   "outputs": [],
   "source": [
    "new_corr_features = ['nr cam', 'mp', 'parter', 'et1-2', 'et3+','etaj max', 'typ_decom', 'bloc nou', 'Price']"
   ]
  },
  {
   "cell_type": "code",
   "execution_count": 15,
   "id": "83153d02",
   "metadata": {},
   "outputs": [],
   "source": [
    "df_new = df[new_corr_features]"
   ]
  },
  {
   "cell_type": "code",
   "execution_count": 16,
   "id": "5b913474",
   "metadata": {},
   "outputs": [
    {
     "data": {
      "text/html": [
       "<div>\n",
       "<style scoped>\n",
       "    .dataframe tbody tr th:only-of-type {\n",
       "        vertical-align: middle;\n",
       "    }\n",
       "\n",
       "    .dataframe tbody tr th {\n",
       "        vertical-align: top;\n",
       "    }\n",
       "\n",
       "    .dataframe thead th {\n",
       "        text-align: right;\n",
       "    }\n",
       "</style>\n",
       "<table border=\"1\" class=\"dataframe\">\n",
       "  <thead>\n",
       "    <tr style=\"text-align: right;\">\n",
       "      <th></th>\n",
       "      <th>nr cam</th>\n",
       "      <th>mp</th>\n",
       "      <th>parter</th>\n",
       "      <th>et1-2</th>\n",
       "      <th>et3+</th>\n",
       "      <th>etaj max</th>\n",
       "      <th>typ_decom</th>\n",
       "      <th>bloc nou</th>\n",
       "      <th>Price</th>\n",
       "    </tr>\n",
       "  </thead>\n",
       "  <tbody>\n",
       "    <tr>\n",
       "      <th>nr cam</th>\n",
       "      <td>1.000000</td>\n",
       "      <td>0.777186</td>\n",
       "      <td>0.003816</td>\n",
       "      <td>-0.067465</td>\n",
       "      <td>0.062328</td>\n",
       "      <td>0.073172</td>\n",
       "      <td>-0.000365</td>\n",
       "      <td>-0.139376</td>\n",
       "      <td>0.525333</td>\n",
       "    </tr>\n",
       "    <tr>\n",
       "      <th>mp</th>\n",
       "      <td>0.777186</td>\n",
       "      <td>1.000000</td>\n",
       "      <td>0.000869</td>\n",
       "      <td>-0.056167</td>\n",
       "      <td>0.053421</td>\n",
       "      <td>0.065719</td>\n",
       "      <td>0.087754</td>\n",
       "      <td>0.006321</td>\n",
       "      <td>0.770386</td>\n",
       "    </tr>\n",
       "    <tr>\n",
       "      <th>parter</th>\n",
       "      <td>0.003816</td>\n",
       "      <td>0.000869</td>\n",
       "      <td>1.000000</td>\n",
       "      <td>-0.285501</td>\n",
       "      <td>-0.388748</td>\n",
       "      <td>-0.448826</td>\n",
       "      <td>0.004277</td>\n",
       "      <td>-0.002453</td>\n",
       "      <td>-0.020806</td>\n",
       "    </tr>\n",
       "    <tr>\n",
       "      <th>et1-2</th>\n",
       "      <td>-0.067465</td>\n",
       "      <td>-0.056167</td>\n",
       "      <td>-0.285501</td>\n",
       "      <td>1.000000</td>\n",
       "      <td>-0.772008</td>\n",
       "      <td>-0.500485</td>\n",
       "      <td>0.065535</td>\n",
       "      <td>0.187789</td>\n",
       "      <td>-0.061217</td>\n",
       "    </tr>\n",
       "    <tr>\n",
       "      <th>et3+</th>\n",
       "      <td>0.062328</td>\n",
       "      <td>0.053421</td>\n",
       "      <td>-0.388748</td>\n",
       "      <td>-0.772008</td>\n",
       "      <td>1.000000</td>\n",
       "      <td>0.778814</td>\n",
       "      <td>-0.065839</td>\n",
       "      <td>-0.178905</td>\n",
       "      <td>0.072650</td>\n",
       "    </tr>\n",
       "    <tr>\n",
       "      <th>etaj max</th>\n",
       "      <td>0.073172</td>\n",
       "      <td>0.065719</td>\n",
       "      <td>-0.448826</td>\n",
       "      <td>-0.500485</td>\n",
       "      <td>0.778814</td>\n",
       "      <td>1.000000</td>\n",
       "      <td>-0.071077</td>\n",
       "      <td>-0.193046</td>\n",
       "      <td>0.091064</td>\n",
       "    </tr>\n",
       "    <tr>\n",
       "      <th>typ_decom</th>\n",
       "      <td>-0.000365</td>\n",
       "      <td>0.087754</td>\n",
       "      <td>0.004277</td>\n",
       "      <td>0.065535</td>\n",
       "      <td>-0.065839</td>\n",
       "      <td>-0.071077</td>\n",
       "      <td>1.000000</td>\n",
       "      <td>0.213843</td>\n",
       "      <td>0.034928</td>\n",
       "    </tr>\n",
       "    <tr>\n",
       "      <th>bloc nou</th>\n",
       "      <td>-0.139376</td>\n",
       "      <td>0.006321</td>\n",
       "      <td>-0.002453</td>\n",
       "      <td>0.187789</td>\n",
       "      <td>-0.178905</td>\n",
       "      <td>-0.193046</td>\n",
       "      <td>0.213843</td>\n",
       "      <td>1.000000</td>\n",
       "      <td>0.035021</td>\n",
       "    </tr>\n",
       "    <tr>\n",
       "      <th>Price</th>\n",
       "      <td>0.525333</td>\n",
       "      <td>0.770386</td>\n",
       "      <td>-0.020806</td>\n",
       "      <td>-0.061217</td>\n",
       "      <td>0.072650</td>\n",
       "      <td>0.091064</td>\n",
       "      <td>0.034928</td>\n",
       "      <td>0.035021</td>\n",
       "      <td>1.000000</td>\n",
       "    </tr>\n",
       "  </tbody>\n",
       "</table>\n",
       "</div>"
      ],
      "text/plain": [
       "             nr cam        mp    parter     et1-2      et3+  etaj max  typ_decom  bloc nou     Price\n",
       "nr cam     1.000000  0.777186  0.003816 -0.067465  0.062328  0.073172  -0.000365 -0.139376  0.525333\n",
       "mp         0.777186  1.000000  0.000869 -0.056167  0.053421  0.065719   0.087754  0.006321  0.770386\n",
       "parter     0.003816  0.000869  1.000000 -0.285501 -0.388748 -0.448826   0.004277 -0.002453 -0.020806\n",
       "et1-2     -0.067465 -0.056167 -0.285501  1.000000 -0.772008 -0.500485   0.065535  0.187789 -0.061217\n",
       "et3+       0.062328  0.053421 -0.388748 -0.772008  1.000000  0.778814  -0.065839 -0.178905  0.072650\n",
       "etaj max   0.073172  0.065719 -0.448826 -0.500485  0.778814  1.000000  -0.071077 -0.193046  0.091064\n",
       "typ_decom -0.000365  0.087754  0.004277  0.065535 -0.065839 -0.071077   1.000000  0.213843  0.034928\n",
       "bloc nou  -0.139376  0.006321 -0.002453  0.187789 -0.178905 -0.193046   0.213843  1.000000  0.035021\n",
       "Price      0.525333  0.770386 -0.020806 -0.061217  0.072650  0.091064   0.034928  0.035021  1.000000"
      ]
     },
     "execution_count": 16,
     "metadata": {},
     "output_type": "execute_result"
    }
   ],
   "source": [
    "df_new.corr()"
   ]
  },
  {
   "cell_type": "markdown",
   "id": "77104c52",
   "metadata": {},
   "source": [
    "## Modelling\n",
    "- further process X data maybe\n",
    "- construct normal eq and determine model coefs `(((XtX)^-1)Xt)y (y = x*w => w = y/x)`\n",
    "- validate results (how, when)\n",
    "\n",
    "`f(X) = y = X[0]*w[0] + X[1]*w[1] + .... X[N]*w[N] +X[N+1]*w[N+1] | X[N+1] == 1`"
   ]
  },
  {
   "cell_type": "code",
   "execution_count": 17,
   "id": "23c164ac",
   "metadata": {},
   "outputs": [
    {
     "data": {
      "text/plain": [
       "nr cam        2.505709\n",
       "mp           73.704865\n",
       "parter        0.125695\n",
       "et1-2         0.361827\n",
       "et3+          0.512479\n",
       "etaj max      3.336466\n",
       "typ_decom     0.717591\n",
       "bloc nou      0.593210\n",
       "dtype: float64"
      ]
     },
     "execution_count": 17,
     "metadata": {},
     "output_type": "execute_result"
    }
   ],
   "source": [
    "X.mean()"
   ]
  },
  {
   "cell_type": "code",
   "execution_count": 18,
   "id": "d544883f",
   "metadata": {},
   "outputs": [
    {
     "data": {
      "text/plain": [
       "nr cam        1.0\n",
       "mp           15.0\n",
       "parter        0.0\n",
       "et1-2         0.0\n",
       "et3+          0.0\n",
       "etaj max      0.0\n",
       "typ_decom     0.0\n",
       "bloc nou      0.0\n",
       "dtype: float64"
      ]
     },
     "execution_count": 18,
     "metadata": {},
     "output_type": "execute_result"
    }
   ],
   "source": [
    "X.min()"
   ]
  },
  {
   "cell_type": "code",
   "execution_count": 19,
   "id": "4e899d03",
   "metadata": {},
   "outputs": [
    {
     "data": {
      "text/plain": [
       "nr cam        0.950467\n",
       "mp           40.174869\n",
       "parter        0.331522\n",
       "et1-2         0.480553\n",
       "et3+          0.499870\n",
       "etaj max      2.818757\n",
       "typ_decom     0.450194\n",
       "bloc nou      0.491260\n",
       "dtype: float64"
      ]
     },
     "execution_count": 19,
     "metadata": {},
     "output_type": "execute_result"
    }
   ],
   "source": [
    "X.std()"
   ]
  },
  {
   "cell_type": "code",
   "execution_count": 20,
   "id": "da7811fd",
   "metadata": {},
   "outputs": [
    {
     "data": {
      "text/plain": [
       "nr cam        12.0\n",
       "mp           621.0\n",
       "parter         1.0\n",
       "et1-2          1.0\n",
       "et3+           1.0\n",
       "etaj max      18.0\n",
       "typ_decom      1.0\n",
       "bloc nou       1.0\n",
       "dtype: float64"
      ]
     },
     "execution_count": 20,
     "metadata": {},
     "output_type": "execute_result"
    }
   ],
   "source": [
    "X.max()"
   ]
  },
  {
   "cell_type": "code",
   "execution_count": 21,
   "id": "2ff21113",
   "metadata": {},
   "outputs": [],
   "source": [
    "np_X = X.values"
   ]
  },
  {
   "cell_type": "code",
   "execution_count": 22,
   "id": "92788300",
   "metadata": {
    "scrolled": false
   },
   "outputs": [
    {
     "data": {
      "text/plain": [
       "array([[  2.  ,  56.  ,   0.  ,   1.  ,   0.  ,   2.  ,   1.  ,   1.  ],\n",
       "       [  2.  ,  57.  ,   0.  ,   1.  ,   0.  ,   2.  ,   0.  ,   1.  ],\n",
       "       [  2.  ,  67.  ,   0.  ,   1.  ,   0.  ,   2.  ,   1.  ,   1.  ],\n",
       "       [  1.  ,  48.  ,   0.  ,   1.  ,   0.  ,   2.  ,   1.  ,   1.  ],\n",
       "       [  3.  ,  89.6 ,   0.  ,   0.  ,   1.  ,   3.  ,   1.  ,   1.  ],\n",
       "       [  2.  ,  65.  ,   0.  ,   1.  ,   0.  ,   2.  ,   1.  ,   1.  ],\n",
       "       [  2.  ,  46.  ,   0.  ,   0.  ,   1.  ,   4.  ,   1.  ,   1.  ],\n",
       "       [  6.  , 334.  ,   0.  ,   0.  ,   1.  ,  10.  ,   1.  ,   1.  ],\n",
       "       [  3.  , 104.26,   0.  ,   0.  ,   1.  ,  11.  ,   1.  ,   1.  ],\n",
       "       [  2.  ,  65.  ,   0.  ,   1.  ,   0.  ,   1.  ,   0.  ,   1.  ],\n",
       "       [  2.  ,  46.  ,   0.  ,   0.  ,   1.  ,   3.  ,   1.  ,   1.  ],\n",
       "       [  1.  ,  43.02,   1.  ,   0.  ,   0.  ,   0.  ,   1.  ,   1.  ],\n",
       "       [  3.  ,  80.23,   0.  ,   0.  ,   1.  ,   3.  ,   1.  ,   1.  ],\n",
       "       [  1.  ,  30.  ,   1.  ,   0.  ,   0.  ,   0.  ,   1.  ,   1.  ],\n",
       "       [  2.  ,  66.2 ,   0.  ,   1.  ,   0.  ,   2.  ,   1.  ,   1.  ],\n",
       "       [  4.  ,  90.39,   0.  ,   0.  ,   1.  ,   5.  ,   0.  ,   1.  ],\n",
       "       [  3.  ,  91.2 ,   0.  ,   0.  ,   1.  ,   3.  ,   0.  ,   1.  ],\n",
       "       [  2.  ,  56.  ,   0.  ,   1.  ,   0.  ,   2.  ,   1.  ,   1.  ],\n",
       "       [  2.  ,  70.24,   0.  ,   0.  ,   1.  ,   8.  ,   1.  ,   1.  ],\n",
       "       [  2.  ,  53.  ,   0.  ,   0.  ,   1.  ,   3.  ,   0.  ,   1.  ]])"
      ]
     },
     "execution_count": 22,
     "metadata": {},
     "output_type": "execute_result"
    }
   ],
   "source": [
    "np_X[:20]"
   ]
  },
  {
   "cell_type": "code",
   "execution_count": 24,
   "id": "8a1affd5",
   "metadata": {},
   "outputs": [
    {
     "data": {
      "text/plain": [
       "array([ 2.51, 73.7 ,  0.13,  0.36,  0.51,  3.34,  0.72,  0.59])"
      ]
     },
     "execution_count": 24,
     "metadata": {},
     "output_type": "execute_result"
    }
   ],
   "source": [
    "np_X.mean(axis=0)"
   ]
  },
  {
   "cell_type": "code",
   "execution_count": 25,
   "id": "f0b01063",
   "metadata": {},
   "outputs": [],
   "source": [
    "np_X_n = (np_X - np_X.mean(0)) / np_X.std(0)"
   ]
  },
  {
   "cell_type": "code",
   "execution_count": 26,
   "id": "85c7087a",
   "metadata": {},
   "outputs": [
    {
     "data": {
      "text/plain": [
       "array([[-0.53, -0.44, -0.38,  1.33, -1.03, -0.47,  0.63,  0.83],\n",
       "       [-0.53, -0.42, -0.38,  1.33, -1.03, -0.47, -1.59,  0.83],\n",
       "       [-0.53, -0.17, -0.38,  1.33, -1.03, -0.47,  0.63,  0.83],\n",
       "       [-1.58, -0.64, -0.38,  1.33, -1.03, -0.47,  0.63,  0.83],\n",
       "       [ 0.52,  0.4 , -0.38, -0.75,  0.98, -0.12,  0.63,  0.83],\n",
       "       [-0.53, -0.22, -0.38,  1.33, -1.03, -0.47,  0.63,  0.83],\n",
       "       [-0.53, -0.69, -0.38, -0.75,  0.98,  0.24,  0.63,  0.83],\n",
       "       [ 3.68,  6.48, -0.38, -0.75,  0.98,  2.36,  0.63,  0.83],\n",
       "       [ 0.52,  0.76, -0.38, -0.75,  0.98,  2.72,  0.63,  0.83],\n",
       "       [-0.53, -0.22, -0.38,  1.33, -1.03, -0.83, -1.59,  0.83],\n",
       "       [-0.53, -0.69, -0.38, -0.75,  0.98, -0.12,  0.63,  0.83],\n",
       "       [-1.58, -0.76,  2.64, -0.75, -1.03, -1.18,  0.63,  0.83],\n",
       "       [ 0.52,  0.16, -0.38, -0.75,  0.98, -0.12,  0.63,  0.83],\n",
       "       [-1.58, -1.09,  2.64, -0.75, -1.03, -1.18,  0.63,  0.83],\n",
       "       [-0.53, -0.19, -0.38,  1.33, -1.03, -0.47,  0.63,  0.83],\n",
       "       [ 1.57,  0.42, -0.38, -0.75,  0.98,  0.59, -1.59,  0.83],\n",
       "       [ 0.52,  0.44, -0.38, -0.75,  0.98, -0.12, -1.59,  0.83],\n",
       "       [-0.53, -0.44, -0.38,  1.33, -1.03, -0.47,  0.63,  0.83],\n",
       "       [-0.53, -0.09, -0.38, -0.75,  0.98,  1.65,  0.63,  0.83],\n",
       "       [-0.53, -0.52, -0.38, -0.75,  0.98, -0.12, -1.59,  0.83]])"
      ]
     },
     "execution_count": 26,
     "metadata": {},
     "output_type": "execute_result"
    }
   ],
   "source": [
    "np_X_n[:20]"
   ]
  },
  {
   "cell_type": "code",
   "execution_count": 27,
   "id": "313a4cae",
   "metadata": {},
   "outputs": [
    {
     "data": {
      "text/plain": [
       "array([  35800,   35800,   39600,   29800,  112900,   37400,   39500, 2350000,  332000,   39900,   39500,   42766,   88253,   26800,   93000,  135000,  115000,   39500,   55192,   69900], dtype=int64)"
      ]
     },
     "execution_count": 27,
     "metadata": {},
     "output_type": "execute_result"
    }
   ],
   "source": [
    "np_y = y_price.values\n",
    "np_y[:20]"
   ]
  },
  {
   "cell_type": "code",
   "execution_count": 28,
   "id": "e045e61c",
   "metadata": {},
   "outputs": [
    {
     "data": {
      "text/plain": [
       "array([0.  , 0.  , 0.01, 0.  , 0.02, 0.01, 0.01, 0.6 , 0.08, 0.01, 0.01, 0.01, 0.02, 0.  , 0.02, 0.03, 0.03, 0.01, 0.01, 0.01])"
      ]
     },
     "execution_count": 28,
     "metadata": {},
     "output_type": "execute_result"
    }
   ],
   "source": [
    "\n",
    "np_y_n = (np_y - np_y.min()) / (np_y.max() - np_y.min())\n",
    "np_y_n[:20]"
   ]
  },
  {
   "cell_type": "code",
   "execution_count": 29,
   "id": "be241ae2",
   "metadata": {},
   "outputs": [
    {
     "data": {
      "text/plain": [
       "18000"
      ]
     },
     "execution_count": 29,
     "metadata": {},
     "output_type": "execute_result"
    }
   ],
   "source": [
    "np_y.min()\n"
   ]
  },
  {
   "cell_type": "code",
   "execution_count": 30,
   "id": "af98e5ba",
   "metadata": {},
   "outputs": [
    {
     "data": {
      "text/plain": [
       "3880000"
      ]
     },
     "execution_count": 30,
     "metadata": {},
     "output_type": "execute_result"
    }
   ],
   "source": [
    "np_y.max()"
   ]
  },
  {
   "cell_type": "code",
   "execution_count": 31,
   "id": "fa676245",
   "metadata": {},
   "outputs": [
    {
     "data": {
      "text/plain": [
       "array([  35800.,   35800.,   39600.,   29800.,  112900.,   37400.,   39500., 2350000.,  332000.,   39900.,   39500.,   42766.,   88253.,   26800.,   93000.,  135000.,  115000.,   39500.,   55192.,   69900.])"
      ]
     },
     "execution_count": 31,
     "metadata": {},
     "output_type": "execute_result"
    }
   ],
   "source": [
    "y_norm_sub = np_y.min()\n",
    "y_norm_div = np_y.max() - np_y.min()\n",
    "y_test = np_y_n * y_norm_div + y_norm_sub\n",
    "y_test[:20]"
   ]
  },
  {
   "cell_type": "code",
   "execution_count": 32,
   "id": "16e3b9d4",
   "metadata": {},
   "outputs": [],
   "source": [
    "# TODO: write normal eq for raw data\n",
    "np_weights = np.linalg.pinv(np_X.T.dot(np_X)).dot(np_X.T).dot(np_y)\n",
    "\n",
    "# TODO: write normal eq for normalized data\n",
    "np_weights_n = np.linalg.pinv(np_X_n.T.dot(np_X_n)).dot(np_X_n.T).dot(np_y_n)\n"
   ]
  },
  {
   "cell_type": "code",
   "execution_count": 33,
   "id": "17612e6f",
   "metadata": {},
   "outputs": [
    {
     "data": {
      "text/plain": [
       "array([-35253.17,   4068.76, -77652.97, -77536.51, -76809.97,   2762.81, -18637.49,   7934.74])"
      ]
     },
     "execution_count": 33,
     "metadata": {},
     "output_type": "execute_result"
    }
   ],
   "source": [
    "np_weights"
   ]
  },
  {
   "cell_type": "code",
   "execution_count": 34,
   "id": "e92a8344",
   "metadata": {},
   "outputs": [
    {
     "data": {
      "text/plain": [
       "array([-0.01,  0.04, -0.  , -0.  ,  0.  ,  0.  , -0.  ,  0.  ])"
      ]
     },
     "execution_count": 34,
     "metadata": {},
     "output_type": "execute_result"
    }
   ],
   "source": [
    "np_weights_n"
   ]
  },
  {
   "cell_type": "code",
   "execution_count": 35,
   "id": "4485a963",
   "metadata": {},
   "outputs": [],
   "source": [
    "#TODO: calc predictions for raw data model\n",
    "np_y_preds = np_X.dot(np_weights)\n",
    "\n",
    "#TODO: calc predictions for normalized data model\n",
    "np_y_preds_n = np_X_n.dot(np_weights_n)"
   ]
  },
  {
   "cell_type": "code",
   "execution_count": 36,
   "id": "3d4795c7",
   "metadata": {},
   "outputs": [
    {
     "data": {
      "text/plain": [
       "array([  74630.73,   97336.97,  119387.11,   77333.79,  179577.32,  111249.59,   40195.26, 1087562.99,  261327.85,  127124.26,   37432.45,   51429.28,  141453.02,   -1546.01,  116132.1 ,  171701.58,  204724.82,   74630.73,  149873.29,   84551.27])"
      ]
     },
     "execution_count": 36,
     "metadata": {},
     "output_type": "execute_result"
    }
   ],
   "source": [
    "np_y_preds[:20]"
   ]
  },
  {
   "cell_type": "code",
   "execution_count": 37,
   "id": "fa77cb75",
   "metadata": {},
   "outputs": [
    {
     "data": {
      "text/plain": [
       "Text(0.5, 1.0, 'Normed data model predictions')"
      ]
     },
     "execution_count": 37,
     "metadata": {},
     "output_type": "execute_result"
    },
    {
     "data": {
      "image/png": "[encoded data removed]",
      "text/plain": [
       "<Figure size 640x480 with 1 Axes>"
      ]
     },
     "metadata": {},
     "output_type": "display_data"
    },
    {
     "data": {
      "image/png": "[encoded data removed]",
      "text/plain": [
       "<Figure size 640x480 with 1 Axes>"
      ]
     },
     "metadata": {},
     "output_type": "display_data"
    }
   ],
   "source": [
    "plt.figure()\n",
    "plt.hist(np_y_preds)\n",
    "plt.title('Raw model predictions')\n",
    "plt.figure()\n",
    "plt.hist(np_y_preds_n)\n",
    "plt.title('Normed data model predictions')"
   ]
  },
  {
   "cell_type": "markdown",
   "id": "3d6aa458",
   "metadata": {},
   "source": [
    "### One more model before testing results\n",
    "\n",
    "Lets further improve model by adding bias"
   ]
  },
  {
   "cell_type": "code",
   "execution_count": 38,
   "id": "c3a1d320",
   "metadata": {
    "scrolled": false
   },
   "outputs": [
    {
     "data": {
      "text/plain": [
       "array([[1.],\n",
       "       [1.],\n",
       "       [1.],\n",
       "       [1.],\n",
       "       [1.],\n",
       "       [1.],\n",
       "       [1.],\n",
       "       [1.],\n",
       "       [1.],\n",
       "       [1.],\n",
       "       [1.],\n",
       "       [1.],\n",
       "       [1.],\n",
       "       [1.],\n",
       "       [1.],\n",
       "       [1.],\n",
       "       [1.],\n",
       "       [1.],\n",
       "       [1.],\n",
       "       [1.]])"
      ]
     },
     "execution_count": 38,
     "metadata": {},
     "output_type": "execute_result"
    }
   ],
   "source": [
    "ones = np.ones(shape=(np_X_n.shape[0], 1))\n",
    "ones[:20]"
   ]
  },
  {
   "cell_type": "code",
   "execution_count": 39,
   "id": "20b49206",
   "metadata": {},
   "outputs": [
    {
     "data": {
      "text/plain": [
       "array([[-0.53, -0.44, -0.38,  1.33, -1.03, -0.47,  0.63,  0.83,  1.  ],\n",
       "       [-0.53, -0.42, -0.38,  1.33, -1.03, -0.47, -1.59,  0.83,  1.  ],\n",
       "       [-0.53, -0.17, -0.38,  1.33, -1.03, -0.47,  0.63,  0.83,  1.  ],\n",
       "       [-1.58, -0.64, -0.38,  1.33, -1.03, -0.47,  0.63,  0.83,  1.  ],\n",
       "       [ 0.52,  0.4 , -0.38, -0.75,  0.98, -0.12,  0.63,  0.83,  1.  ],\n",
       "       [-0.53, -0.22, -0.38,  1.33, -1.03, -0.47,  0.63,  0.83,  1.  ],\n",
       "       [-0.53, -0.69, -0.38, -0.75,  0.98,  0.24,  0.63,  0.83,  1.  ],\n",
       "       [ 3.68,  6.48, -0.38, -0.75,  0.98,  2.36,  0.63,  0.83,  1.  ],\n",
       "       [ 0.52,  0.76, -0.38, -0.75,  0.98,  2.72,  0.63,  0.83,  1.  ],\n",
       "       [-0.53, -0.22, -0.38,  1.33, -1.03, -0.83, -1.59,  0.83,  1.  ],\n",
       "       [-0.53, -0.69, -0.38, -0.75,  0.98, -0.12,  0.63,  0.83,  1.  ],\n",
       "       [-1.58, -0.76,  2.64, -0.75, -1.03, -1.18,  0.63,  0.83,  1.  ],\n",
       "       [ 0.52,  0.16, -0.38, -0.75,  0.98, -0.12,  0.63,  0.83,  1.  ],\n",
       "       [-1.58, -1.09,  2.64, -0.75, -1.03, -1.18,  0.63,  0.83,  1.  ],\n",
       "       [-0.53, -0.19, -0.38,  1.33, -1.03, -0.47,  0.63,  0.83,  1.  ],\n",
       "       [ 1.57,  0.42, -0.38, -0.75,  0.98,  0.59, -1.59,  0.83,  1.  ],\n",
       "       [ 0.52,  0.44, -0.38, -0.75,  0.98, -0.12, -1.59,  0.83,  1.  ],\n",
       "       [-0.53, -0.44, -0.38,  1.33, -1.03, -0.47,  0.63,  0.83,  1.  ],\n",
       "       [-0.53, -0.09, -0.38, -0.75,  0.98,  1.65,  0.63,  0.83,  1.  ],\n",
       "       [-0.53, -0.52, -0.38, -0.75,  0.98, -0.12, -1.59,  0.83,  1.  ]])"
      ]
     },
     "execution_count": 39,
     "metadata": {},
     "output_type": "execute_result"
    }
   ],
   "source": [
    "np_X_nb = np.concatenate((np_X_n, ones), axis=-1)\n",
    "np_X_nb[:20]"
   ]
  },
  {
   "cell_type": "code",
   "execution_count": 41,
   "id": "643c832a",
   "metadata": {},
   "outputs": [
    {
     "data": {
      "text/plain": [
       "array([-0.01,  0.04, -0.  , -0.  ,  0.  ,  0.  , -0.  ,  0.  ,  0.03])"
      ]
     },
     "execution_count": 41,
     "metadata": {},
     "output_type": "execute_result"
    }
   ],
   "source": [
    "# TODO: calculate weights\n",
    "np_weights_nb = np.linalg.inv(np_X_nb.T.dot(np_X_nb) + 0.02 * np.eye(np_X_nb.shape[1])).dot(np_X_nb.T).dot(np_y_n)\n",
    "np_weights_nb"
   ]
  },
  {
   "cell_type": "code",
   "execution_count": 42,
   "id": "299903cf",
   "metadata": {},
   "outputs": [
    {
     "data": {
      "text/plain": [
       "array([ 0.01,  0.02,  0.03,  0.02,  0.04,  0.02,  0.01,  0.28,  0.06,  0.03,  0.01,  0.01,  0.03, -0.01,  0.03,  0.04,  0.05,  0.01,  0.03,  0.02])"
      ]
     },
     "execution_count": 42,
     "metadata": {},
     "output_type": "execute_result"
    }
   ],
   "source": [
    "# TODO: calculate predictions\n",
    "np_y_preds_nb = np_X_nb.dot(np_weights_nb)\n",
    "np_y_preds_nb[:20]"
   ]
  },
  {
   "cell_type": "code",
   "execution_count": 43,
   "id": "5681aac7",
   "metadata": {},
   "outputs": [
    {
     "data": {
      "text/plain": [
       "(array([  21.,  628., 2177., 3021., 1719.,  772.,  433.,  269.,  199.,  143.,  107.,   98.,   78.,   41.,   35.,   30.,   13.,   27.,   15.,   16.,   11.,   13.,    4.,    2.,    2.,    4.,    2.,    2.,    3.,    0.,    1.,    1.,    2.,    0.,    1.,    0.,    0.,    1.,    1.,    2.,    0.,    0.,    0.,    1.,    0.,    0.,    1.,    0.,    0.,    1.]),\n",
       " array([-0.02, -0.01,  0.  ,  0.01,  0.02,  0.04,  0.05,  0.06,  0.07,  0.08,  0.09,  0.11,  0.12,  0.13,  0.14,  0.15,  0.17,  0.18,  0.19,  0.2 ,  0.21,  0.22,  0.24,  0.25,  0.26,  0.27,  0.28,  0.29,  0.31,  0.32,  0.33,  0.34,  0.35,  0.36,  0.38,  0.39,  0.4 ,  0.41,  0.42,  0.43,  0.45,  0.46,  0.47,  0.48,  0.49,  0.5 ,  0.52,  0.53,  0.54,  0.55,  0.56]),\n",
       " <BarContainer object of 50 artists>)"
      ]
     },
     "execution_count": 43,
     "metadata": {},
     "output_type": "execute_result"
    },
    {
     "data": {
      "image/png": "[encoded data removed]",
      "text/plain": [
       "<Figure size 640x480 with 1 Axes>"
      ]
     },
     "metadata": {},
     "output_type": "display_data"
    }
   ],
   "source": [
    "plt.hist(np_y_preds_nb, bins=50)"
   ]
  },
  {
   "cell_type": "code",
   "execution_count": 44,
   "id": "ab6091bf",
   "metadata": {},
   "outputs": [],
   "source": [
    "np_y_pred_price = np_y_preds\n",
    "np_y_pred_n_price = np_y_preds_n * y_norm_div + y_norm_sub\n",
    "np_y_pred_nb_price = np_y_preds_nb  * y_norm_div + y_norm_sub"
   ]
  },
  {
   "cell_type": "markdown",
   "id": "2fc606b6",
   "metadata": {},
   "source": [
    "### Now lets prepare some friendly calitative analysis outputs"
   ]
  },
  {
   "cell_type": "markdown",
   "id": "f6e48092",
   "metadata": {},
   "source": [
    "Raw model"
   ]
  },
  {
   "cell_type": "code",
   "execution_count": 45,
   "id": "3e48e3dd",
   "metadata": {},
   "outputs": [
    {
     "data": {
      "text/html": [
       "<div>\n",
       "<style scoped>\n",
       "    .dataframe tbody tr th:only-of-type {\n",
       "        vertical-align: middle;\n",
       "    }\n",
       "\n",
       "    .dataframe tbody tr th {\n",
       "        vertical-align: top;\n",
       "    }\n",
       "\n",
       "    .dataframe thead th {\n",
       "        text-align: right;\n",
       "    }\n",
       "</style>\n",
       "<table border=\"1\" class=\"dataframe\">\n",
       "  <thead>\n",
       "    <tr style=\"text-align: right;\">\n",
       "      <th></th>\n",
       "      <th>GOLD</th>\n",
       "      <th>PRED</th>\n",
       "    </tr>\n",
       "  </thead>\n",
       "  <tbody>\n",
       "    <tr>\n",
       "      <th>9887</th>\n",
       "      <td>47000</td>\n",
       "      <td>43077.0</td>\n",
       "    </tr>\n",
       "    <tr>\n",
       "      <th>9888</th>\n",
       "      <td>34500</td>\n",
       "      <td>-28459.0</td>\n",
       "    </tr>\n",
       "    <tr>\n",
       "      <th>9889</th>\n",
       "      <td>56000</td>\n",
       "      <td>28301.0</td>\n",
       "    </tr>\n",
       "    <tr>\n",
       "      <th>9890</th>\n",
       "      <td>101000</td>\n",
       "      <td>139731.0</td>\n",
       "    </tr>\n",
       "    <tr>\n",
       "      <th>9891</th>\n",
       "      <td>79524</td>\n",
       "      <td>88871.0</td>\n",
       "    </tr>\n",
       "    <tr>\n",
       "      <th>9892</th>\n",
       "      <td>85000</td>\n",
       "      <td>170468.0</td>\n",
       "    </tr>\n",
       "    <tr>\n",
       "      <th>9893</th>\n",
       "      <td>134999</td>\n",
       "      <td>166740.0</td>\n",
       "    </tr>\n",
       "    <tr>\n",
       "      <th>9894</th>\n",
       "      <td>59000</td>\n",
       "      <td>59036.0</td>\n",
       "    </tr>\n",
       "    <tr>\n",
       "      <th>9895</th>\n",
       "      <td>110000</td>\n",
       "      <td>120766.0</td>\n",
       "    </tr>\n",
       "    <tr>\n",
       "      <th>9896</th>\n",
       "      <td>61500</td>\n",
       "      <td>30692.0</td>\n",
       "    </tr>\n",
       "  </tbody>\n",
       "</table>\n",
       "</div>"
      ],
      "text/plain": [
       "        GOLD      PRED\n",
       "9887   47000   43077.0\n",
       "9888   34500  -28459.0\n",
       "9889   56000   28301.0\n",
       "9890  101000  139731.0\n",
       "9891   79524   88871.0\n",
       "9892   85000  170468.0\n",
       "9893  134999  166740.0\n",
       "9894   59000   59036.0\n",
       "9895  110000  120766.0\n",
       "9896   61500   30692.0"
      ]
     },
     "execution_count": 45,
     "metadata": {},
     "output_type": "execute_result"
    }
   ],
   "source": [
    "df_result_raw = pd.DataFrame(\n",
    "    {\n",
    "        'GOLD' : y_price,\n",
    "        'PRED' : np_y_pred_price.round(0),\n",
    "    }\n",
    ")\n",
    "df_result_raw.head(10)\n",
    "df_result_raw.tail(10)"
   ]
  },
  {
   "cell_type": "markdown",
   "id": "da397496",
   "metadata": {},
   "source": [
    "Normed data model"
   ]
  },
  {
   "cell_type": "code",
   "execution_count": 46,
   "id": "2626c87f",
   "metadata": {},
   "outputs": [
    {
     "data": {
      "text/html": [
       "<div>\n",
       "<style scoped>\n",
       "    .dataframe tbody tr th:only-of-type {\n",
       "        vertical-align: middle;\n",
       "    }\n",
       "\n",
       "    .dataframe tbody tr th {\n",
       "        vertical-align: top;\n",
       "    }\n",
       "\n",
       "    .dataframe thead th {\n",
       "        text-align: right;\n",
       "    }\n",
       "</style>\n",
       "<table border=\"1\" class=\"dataframe\">\n",
       "  <thead>\n",
       "    <tr style=\"text-align: right;\">\n",
       "      <th></th>\n",
       "      <th>GOLD</th>\n",
       "      <th>PRED</th>\n",
       "    </tr>\n",
       "  </thead>\n",
       "  <tbody>\n",
       "    <tr>\n",
       "      <th>9887</th>\n",
       "      <td>47000</td>\n",
       "      <td>-73848.0</td>\n",
       "    </tr>\n",
       "    <tr>\n",
       "      <th>9888</th>\n",
       "      <td>34500</td>\n",
       "      <td>-145384.0</td>\n",
       "    </tr>\n",
       "    <tr>\n",
       "      <th>9889</th>\n",
       "      <td>56000</td>\n",
       "      <td>-88624.0</td>\n",
       "    </tr>\n",
       "    <tr>\n",
       "      <th>9890</th>\n",
       "      <td>101000</td>\n",
       "      <td>22805.0</td>\n",
       "    </tr>\n",
       "    <tr>\n",
       "      <th>9891</th>\n",
       "      <td>79524</td>\n",
       "      <td>-28054.0</td>\n",
       "    </tr>\n",
       "    <tr>\n",
       "      <th>9892</th>\n",
       "      <td>85000</td>\n",
       "      <td>53543.0</td>\n",
       "    </tr>\n",
       "    <tr>\n",
       "      <th>9893</th>\n",
       "      <td>134999</td>\n",
       "      <td>49815.0</td>\n",
       "    </tr>\n",
       "    <tr>\n",
       "      <th>9894</th>\n",
       "      <td>59000</td>\n",
       "      <td>-57890.0</td>\n",
       "    </tr>\n",
       "    <tr>\n",
       "      <th>9895</th>\n",
       "      <td>110000</td>\n",
       "      <td>3841.0</td>\n",
       "    </tr>\n",
       "    <tr>\n",
       "      <th>9896</th>\n",
       "      <td>61500</td>\n",
       "      <td>-86233.0</td>\n",
       "    </tr>\n",
       "  </tbody>\n",
       "</table>\n",
       "</div>"
      ],
      "text/plain": [
       "        GOLD      PRED\n",
       "9887   47000  -73848.0\n",
       "9888   34500 -145384.0\n",
       "9889   56000  -88624.0\n",
       "9890  101000   22805.0\n",
       "9891   79524  -28054.0\n",
       "9892   85000   53543.0\n",
       "9893  134999   49815.0\n",
       "9894   59000  -57890.0\n",
       "9895  110000    3841.0\n",
       "9896   61500  -86233.0"
      ]
     },
     "execution_count": 46,
     "metadata": {},
     "output_type": "execute_result"
    }
   ],
   "source": [
    "df_result_n = pd.DataFrame(\n",
    "    {\n",
    "        'GOLD' : y_price,\n",
    "        'PRED' : np_y_pred_n_price.round(0),\n",
    "    }\n",
    ")\n",
    "df_result_n.head(10)\n",
    "df_result_n.tail(10)"
   ]
  },
  {
   "cell_type": "markdown",
   "id": "5c6bb0dd",
   "metadata": {},
   "source": [
    "Normed & bias added"
   ]
  },
  {
   "cell_type": "code",
   "execution_count": 47,
   "id": "ce27b9fe",
   "metadata": {
    "scrolled": true
   },
   "outputs": [
    {
     "data": {
      "text/html": [
       "<div>\n",
       "<style scoped>\n",
       "    .dataframe tbody tr th:only-of-type {\n",
       "        vertical-align: middle;\n",
       "    }\n",
       "\n",
       "    .dataframe tbody tr th {\n",
       "        vertical-align: top;\n",
       "    }\n",
       "\n",
       "    .dataframe thead th {\n",
       "        text-align: right;\n",
       "    }\n",
       "</style>\n",
       "<table border=\"1\" class=\"dataframe\">\n",
       "  <thead>\n",
       "    <tr style=\"text-align: right;\">\n",
       "      <th></th>\n",
       "      <th>GOLD</th>\n",
       "      <th>PRED</th>\n",
       "    </tr>\n",
       "  </thead>\n",
       "  <tbody>\n",
       "    <tr>\n",
       "      <th>0</th>\n",
       "      <td>35800</td>\n",
       "      <td>74631.0</td>\n",
       "    </tr>\n",
       "    <tr>\n",
       "      <th>1</th>\n",
       "      <td>35800</td>\n",
       "      <td>97337.0</td>\n",
       "    </tr>\n",
       "    <tr>\n",
       "      <th>2</th>\n",
       "      <td>39600</td>\n",
       "      <td>119387.0</td>\n",
       "    </tr>\n",
       "    <tr>\n",
       "      <th>3</th>\n",
       "      <td>29800</td>\n",
       "      <td>77333.0</td>\n",
       "    </tr>\n",
       "    <tr>\n",
       "      <th>4</th>\n",
       "      <td>112900</td>\n",
       "      <td>179577.0</td>\n",
       "    </tr>\n",
       "    <tr>\n",
       "      <th>5</th>\n",
       "      <td>37400</td>\n",
       "      <td>111249.0</td>\n",
       "    </tr>\n",
       "    <tr>\n",
       "      <th>6</th>\n",
       "      <td>39500</td>\n",
       "      <td>40195.0</td>\n",
       "    </tr>\n",
       "    <tr>\n",
       "      <th>7</th>\n",
       "      <td>2350000</td>\n",
       "      <td>1087560.0</td>\n",
       "    </tr>\n",
       "    <tr>\n",
       "      <th>8</th>\n",
       "      <td>332000</td>\n",
       "      <td>261327.0</td>\n",
       "    </tr>\n",
       "    <tr>\n",
       "      <th>9</th>\n",
       "      <td>39900</td>\n",
       "      <td>127124.0</td>\n",
       "    </tr>\n",
       "  </tbody>\n",
       "</table>\n",
       "</div>"
      ],
      "text/plain": [
       "      GOLD       PRED\n",
       "0    35800    74631.0\n",
       "1    35800    97337.0\n",
       "2    39600   119387.0\n",
       "3    29800    77333.0\n",
       "4   112900   179577.0\n",
       "5    37400   111249.0\n",
       "6    39500    40195.0\n",
       "7  2350000  1087560.0\n",
       "8   332000   261327.0\n",
       "9    39900   127124.0"
      ]
     },
     "execution_count": 47,
     "metadata": {},
     "output_type": "execute_result"
    }
   ],
   "source": [
    "\n",
    "df_result_nb = pd.DataFrame(\n",
    "    {\n",
    "        'GOLD' : y_price,\n",
    "        'PRED' : np_y_pred_nb_price.round(0),\n",
    "    }\n",
    ")\n",
    "df_result_nb.head(10)\n",
    "df_result_nb.head(10)"
   ]
  },
  {
   "cell_type": "markdown",
   "id": "3fedbe4f",
   "metadata": {},
   "source": [
    "Now lets see some quantitative analysis of the results"
   ]
  },
  {
   "cell_type": "code",
   "execution_count": 48,
   "id": "8e0d15ba",
   "metadata": {},
   "outputs": [
    {
     "data": {
      "text/plain": [
       "0       38830.583012\n",
       "1       61536.616239\n",
       "2       79786.689664\n",
       "3       47532.935938\n",
       "4       66677.306676\n",
       "            ...     \n",
       "9892    85468.921492\n",
       "9893    31741.189064\n",
       "9894       35.241696\n",
       "9895    10767.070958\n",
       "9896    30808.428333\n",
       "Name: Price, Length: 9897, dtype: float64"
      ]
     },
     "execution_count": 48,
     "metadata": {},
     "output_type": "execute_result"
    }
   ],
   "source": [
    "# TODO: complete code below\n",
    "abs_err = np.abs(y_price - np_y_pred_nb_price)\n",
    "abs_err"
   ]
  },
  {
   "cell_type": "code",
   "execution_count": 49,
   "id": "b640f3ea",
   "metadata": {},
   "outputs": [],
   "source": [
    "proc_err = abs_err / y_price\n",
    "proc_err = proc_err * 100"
   ]
  },
  {
   "cell_type": "code",
   "execution_count": 50,
   "id": "3fc83f57",
   "metadata": {},
   "outputs": [
    {
     "data": {
      "text/html": [
       "<div>\n",
       "<style scoped>\n",
       "    .dataframe tbody tr th:only-of-type {\n",
       "        vertical-align: middle;\n",
       "    }\n",
       "\n",
       "    .dataframe tbody tr th {\n",
       "        vertical-align: top;\n",
       "    }\n",
       "\n",
       "    .dataframe thead th {\n",
       "        text-align: right;\n",
       "    }\n",
       "</style>\n",
       "<table border=\"1\" class=\"dataframe\">\n",
       "  <thead>\n",
       "    <tr style=\"text-align: right;\">\n",
       "      <th></th>\n",
       "      <th>GOLD</th>\n",
       "      <th>PRED</th>\n",
       "      <th>ERR%</th>\n",
       "    </tr>\n",
       "  </thead>\n",
       "  <tbody>\n",
       "    <tr>\n",
       "      <th>0</th>\n",
       "      <td>35800</td>\n",
       "      <td>74631.0</td>\n",
       "      <td>108.47</td>\n",
       "    </tr>\n",
       "    <tr>\n",
       "      <th>1</th>\n",
       "      <td>35800</td>\n",
       "      <td>97337.0</td>\n",
       "      <td>171.89</td>\n",
       "    </tr>\n",
       "    <tr>\n",
       "      <th>2</th>\n",
       "      <td>39600</td>\n",
       "      <td>119387.0</td>\n",
       "      <td>201.48</td>\n",
       "    </tr>\n",
       "    <tr>\n",
       "      <th>3</th>\n",
       "      <td>29800</td>\n",
       "      <td>77333.0</td>\n",
       "      <td>159.51</td>\n",
       "    </tr>\n",
       "    <tr>\n",
       "      <th>4</th>\n",
       "      <td>112900</td>\n",
       "      <td>179577.0</td>\n",
       "      <td>59.06</td>\n",
       "    </tr>\n",
       "    <tr>\n",
       "      <th>5</th>\n",
       "      <td>37400</td>\n",
       "      <td>111249.0</td>\n",
       "      <td>197.46</td>\n",
       "    </tr>\n",
       "    <tr>\n",
       "      <th>6</th>\n",
       "      <td>39500</td>\n",
       "      <td>40195.0</td>\n",
       "      <td>1.76</td>\n",
       "    </tr>\n",
       "    <tr>\n",
       "      <th>7</th>\n",
       "      <td>2350000</td>\n",
       "      <td>1087560.0</td>\n",
       "      <td>53.72</td>\n",
       "    </tr>\n",
       "    <tr>\n",
       "      <th>8</th>\n",
       "      <td>332000</td>\n",
       "      <td>261327.0</td>\n",
       "      <td>21.29</td>\n",
       "    </tr>\n",
       "    <tr>\n",
       "      <th>9</th>\n",
       "      <td>39900</td>\n",
       "      <td>127124.0</td>\n",
       "      <td>218.61</td>\n",
       "    </tr>\n",
       "    <tr>\n",
       "      <th>10</th>\n",
       "      <td>39500</td>\n",
       "      <td>37433.0</td>\n",
       "      <td>5.23</td>\n",
       "    </tr>\n",
       "    <tr>\n",
       "      <th>11</th>\n",
       "      <td>42766</td>\n",
       "      <td>51429.0</td>\n",
       "      <td>20.26</td>\n",
       "    </tr>\n",
       "    <tr>\n",
       "      <th>12</th>\n",
       "      <td>88253</td>\n",
       "      <td>141453.0</td>\n",
       "      <td>60.28</td>\n",
       "    </tr>\n",
       "    <tr>\n",
       "      <th>13</th>\n",
       "      <td>26800</td>\n",
       "      <td>-1546.0</td>\n",
       "      <td>105.77</td>\n",
       "    </tr>\n",
       "    <tr>\n",
       "      <th>14</th>\n",
       "      <td>93000</td>\n",
       "      <td>116132.0</td>\n",
       "      <td>24.87</td>\n",
       "    </tr>\n",
       "    <tr>\n",
       "      <th>15</th>\n",
       "      <td>135000</td>\n",
       "      <td>171702.0</td>\n",
       "      <td>27.19</td>\n",
       "    </tr>\n",
       "    <tr>\n",
       "      <th>16</th>\n",
       "      <td>115000</td>\n",
       "      <td>204725.0</td>\n",
       "      <td>78.02</td>\n",
       "    </tr>\n",
       "    <tr>\n",
       "      <th>17</th>\n",
       "      <td>39500</td>\n",
       "      <td>74631.0</td>\n",
       "      <td>88.94</td>\n",
       "    </tr>\n",
       "    <tr>\n",
       "      <th>18</th>\n",
       "      <td>55192</td>\n",
       "      <td>149873.0</td>\n",
       "      <td>171.55</td>\n",
       "    </tr>\n",
       "    <tr>\n",
       "      <th>19</th>\n",
       "      <td>69900</td>\n",
       "      <td>84551.0</td>\n",
       "      <td>20.96</td>\n",
       "    </tr>\n",
       "  </tbody>\n",
       "</table>\n",
       "</div>"
      ],
      "text/plain": [
       "       GOLD       PRED    ERR%\n",
       "0     35800    74631.0  108.47\n",
       "1     35800    97337.0  171.89\n",
       "2     39600   119387.0  201.48\n",
       "3     29800    77333.0  159.51\n",
       "4    112900   179577.0   59.06\n",
       "5     37400   111249.0  197.46\n",
       "6     39500    40195.0    1.76\n",
       "7   2350000  1087560.0   53.72\n",
       "8    332000   261327.0   21.29\n",
       "9     39900   127124.0  218.61\n",
       "10    39500    37433.0    5.23\n",
       "11    42766    51429.0   20.26\n",
       "12    88253   141453.0   60.28\n",
       "13    26800    -1546.0  105.77\n",
       "14    93000   116132.0   24.87\n",
       "15   135000   171702.0   27.19\n",
       "16   115000   204725.0   78.02\n",
       "17    39500    74631.0   88.94\n",
       "18    55192   149873.0  171.55\n",
       "19    69900    84551.0   20.96"
      ]
     },
     "execution_count": 50,
     "metadata": {},
     "output_type": "execute_result"
    }
   ],
   "source": [
    "df_result = pd.DataFrame(\n",
    "    {\n",
    "        'GOLD' : y_price,\n",
    "        'PRED' : np_y_pred_nb_price.round(0),\n",
    "        'ERR%' : proc_err.round(2)\n",
    "    }\n",
    ")\n",
    "df_result.head(20)"
   ]
  },
  {
   "cell_type": "code",
   "execution_count": 51,
   "id": "9c346ea1",
   "metadata": {},
   "outputs": [
    {
     "data": {
      "text/html": [
       "<div>\n",
       "<style scoped>\n",
       "    .dataframe tbody tr th:only-of-type {\n",
       "        vertical-align: middle;\n",
       "    }\n",
       "\n",
       "    .dataframe tbody tr th {\n",
       "        vertical-align: top;\n",
       "    }\n",
       "\n",
       "    .dataframe thead th {\n",
       "        text-align: right;\n",
       "    }\n",
       "</style>\n",
       "<table border=\"1\" class=\"dataframe\">\n",
       "  <thead>\n",
       "    <tr style=\"text-align: right;\">\n",
       "      <th></th>\n",
       "      <th>GOLD</th>\n",
       "      <th>PRED</th>\n",
       "      <th>ERR%</th>\n",
       "    </tr>\n",
       "  </thead>\n",
       "  <tbody>\n",
       "    <tr>\n",
       "      <th>9877</th>\n",
       "      <td>63000</td>\n",
       "      <td>59587.0</td>\n",
       "      <td>5.42</td>\n",
       "    </tr>\n",
       "    <tr>\n",
       "      <th>9878</th>\n",
       "      <td>32900</td>\n",
       "      <td>37951.0</td>\n",
       "      <td>15.35</td>\n",
       "    </tr>\n",
       "    <tr>\n",
       "      <th>9879</th>\n",
       "      <td>53490</td>\n",
       "      <td>49445.0</td>\n",
       "      <td>7.56</td>\n",
       "    </tr>\n",
       "    <tr>\n",
       "      <th>9880</th>\n",
       "      <td>79000</td>\n",
       "      <td>65299.0</td>\n",
       "      <td>17.34</td>\n",
       "    </tr>\n",
       "    <tr>\n",
       "      <th>9881</th>\n",
       "      <td>79900</td>\n",
       "      <td>110933.0</td>\n",
       "      <td>38.84</td>\n",
       "    </tr>\n",
       "    <tr>\n",
       "      <th>9882</th>\n",
       "      <td>149000</td>\n",
       "      <td>103314.0</td>\n",
       "      <td>30.66</td>\n",
       "    </tr>\n",
       "    <tr>\n",
       "      <th>9883</th>\n",
       "      <td>143000</td>\n",
       "      <td>154443.0</td>\n",
       "      <td>8.00</td>\n",
       "    </tr>\n",
       "    <tr>\n",
       "      <th>9884</th>\n",
       "      <td>55000</td>\n",
       "      <td>72155.0</td>\n",
       "      <td>31.19</td>\n",
       "    </tr>\n",
       "    <tr>\n",
       "      <th>9885</th>\n",
       "      <td>62860</td>\n",
       "      <td>67189.0</td>\n",
       "      <td>6.89</td>\n",
       "    </tr>\n",
       "    <tr>\n",
       "      <th>9886</th>\n",
       "      <td>27500</td>\n",
       "      <td>4096.0</td>\n",
       "      <td>85.11</td>\n",
       "    </tr>\n",
       "    <tr>\n",
       "      <th>9887</th>\n",
       "      <td>47000</td>\n",
       "      <td>43077.0</td>\n",
       "      <td>8.35</td>\n",
       "    </tr>\n",
       "    <tr>\n",
       "      <th>9888</th>\n",
       "      <td>34500</td>\n",
       "      <td>-28459.0</td>\n",
       "      <td>182.49</td>\n",
       "    </tr>\n",
       "    <tr>\n",
       "      <th>9889</th>\n",
       "      <td>56000</td>\n",
       "      <td>28301.0</td>\n",
       "      <td>49.46</td>\n",
       "    </tr>\n",
       "    <tr>\n",
       "      <th>9890</th>\n",
       "      <td>101000</td>\n",
       "      <td>139730.0</td>\n",
       "      <td>38.35</td>\n",
       "    </tr>\n",
       "    <tr>\n",
       "      <th>9891</th>\n",
       "      <td>79524</td>\n",
       "      <td>88871.0</td>\n",
       "      <td>11.75</td>\n",
       "    </tr>\n",
       "    <tr>\n",
       "      <th>9892</th>\n",
       "      <td>85000</td>\n",
       "      <td>170469.0</td>\n",
       "      <td>100.55</td>\n",
       "    </tr>\n",
       "    <tr>\n",
       "      <th>9893</th>\n",
       "      <td>134999</td>\n",
       "      <td>166740.0</td>\n",
       "      <td>23.51</td>\n",
       "    </tr>\n",
       "    <tr>\n",
       "      <th>9894</th>\n",
       "      <td>59000</td>\n",
       "      <td>59035.0</td>\n",
       "      <td>0.06</td>\n",
       "    </tr>\n",
       "    <tr>\n",
       "      <th>9895</th>\n",
       "      <td>110000</td>\n",
       "      <td>120767.0</td>\n",
       "      <td>9.79</td>\n",
       "    </tr>\n",
       "    <tr>\n",
       "      <th>9896</th>\n",
       "      <td>61500</td>\n",
       "      <td>30692.0</td>\n",
       "      <td>50.10</td>\n",
       "    </tr>\n",
       "  </tbody>\n",
       "</table>\n",
       "</div>"
      ],
      "text/plain": [
       "        GOLD      PRED    ERR%\n",
       "9877   63000   59587.0    5.42\n",
       "9878   32900   37951.0   15.35\n",
       "9879   53490   49445.0    7.56\n",
       "9880   79000   65299.0   17.34\n",
       "9881   79900  110933.0   38.84\n",
       "9882  149000  103314.0   30.66\n",
       "9883  143000  154443.0    8.00\n",
       "9884   55000   72155.0   31.19\n",
       "9885   62860   67189.0    6.89\n",
       "9886   27500    4096.0   85.11\n",
       "9887   47000   43077.0    8.35\n",
       "9888   34500  -28459.0  182.49\n",
       "9889   56000   28301.0   49.46\n",
       "9890  101000  139730.0   38.35\n",
       "9891   79524   88871.0   11.75\n",
       "9892   85000  170469.0  100.55\n",
       "9893  134999  166740.0   23.51\n",
       "9894   59000   59035.0    0.06\n",
       "9895  110000  120767.0    9.79\n",
       "9896   61500   30692.0   50.10"
      ]
     },
     "execution_count": 51,
     "metadata": {},
     "output_type": "execute_result"
    }
   ],
   "source": [
    "df_result.tail(20)"
   ]
  },
  {
   "cell_type": "code",
   "execution_count": 52,
   "id": "6052f7fe",
   "metadata": {},
   "outputs": [
    {
     "data": {
      "text/plain": [
       "40.56801916791146"
      ]
     },
     "execution_count": 52,
     "metadata": {},
     "output_type": "execute_result"
    }
   ],
   "source": [
    "proc_err.mean()"
   ]
  },
  {
   "cell_type": "code",
   "execution_count": 53,
   "id": "2e26bdcf",
   "metadata": {},
   "outputs": [],
   "source": [
    "def train_neq(inputs, gold):\n",
    "    # TODO:\n",
    "    weights = np.linalg.pinv(inputs.T.dot(inputs)).dot(inputs.T).dot(gold)\n",
    "    return weights\n",
    "\n",
    "def evaluate(theta, inputs, gold, y_div, y_sub, name=\"\"):\n",
    "    _y_pred = inputs.dot(theta)\n",
    "    _y_vals = _y_pred * y_div + y_sub\n",
    "    \n",
    "    _y_true = gold * y_div + y_sub\n",
    "    \n",
    "    res_err = np.abs(_y_true - _y_vals)\n",
    "    prc_err = res_err / _y_true\n",
    "    \n",
    "    overall = prc_err.mean()\n",
    "    df_result = pd.DataFrame(\n",
    "        {\n",
    "        'GOLD' : _y_true,\n",
    "        'PRED' : _y_vals.round(0),\n",
    "        'ERR%' : prc_err.round(2)\n",
    "        }\n",
    "    )\n",
    "    print('Results for', name)\n",
    "    print(df_result.head(20))\n",
    "    print(df_result.tail(20))\n",
    "    print(\"Overall error: {:.1f}%\".format(overall * 100))\n",
    "    return overall"
   ]
  },
  {
   "cell_type": "markdown",
   "id": "252498aa",
   "metadata": {},
   "source": [
    "# Now for a more correct and real-life approach\n",
    "We will not use the pre-processed data and perform a train-test split. There is no need for train-dev-test split as we do not have a training process to use the dev on."
   ]
  },
  {
   "cell_type": "code",
   "execution_count": 56,
   "id": "7a1727da",
   "metadata": {},
   "outputs": [
    {
     "name": "stdout",
     "output_type": "stream",
     "text": [
      "(7917, 9) (1980, 9) (7917,) (1980,)\n"
     ]
    }
   ],
   "source": [
    "from sklearn.model_selection import train_test_split\n",
    "x_trn, x_tst, y_trn, y_tst = train_test_split(np_X_nb, np_y_n, test_size=0.2)\n",
    "print(x_trn.shape, x_tst.shape, y_trn.shape, y_tst.shape)"
   ]
  },
  {
   "cell_type": "code",
   "execution_count": 57,
   "id": "21a6eb5c",
   "metadata": {},
   "outputs": [],
   "source": [
    "theta = train_neq(\n",
    "    inputs=x_trn,\n",
    "    gold=y_trn\n",
    ")"
   ]
  },
  {
   "cell_type": "code",
   "execution_count": 58,
   "id": "873573d3",
   "metadata": {},
   "outputs": [
    {
     "data": {
      "text/plain": [
       "array([-0.01,  0.04, -0.  , -0.  ,  0.  ,  0.  , -0.  ,  0.  ,  0.03])"
      ]
     },
     "execution_count": 58,
     "metadata": {},
     "output_type": "execute_result"
    }
   ],
   "source": [
    "theta"
   ]
  },
  {
   "cell_type": "code",
   "execution_count": 59,
   "id": "1dc0f147",
   "metadata": {},
   "outputs": [
    {
     "name": "stdout",
     "output_type": "stream",
     "text": [
      "Results for TRAIN\n",
      "        GOLD      PRED  ERR%\n",
      "0    54625.0  113439.0  1.08\n",
      "1    61000.0   86156.0  0.41\n",
      "2    98500.0  138444.0  0.41\n",
      "3    83000.0  107420.0  0.29\n",
      "4    69205.0  137577.0  0.99\n",
      "5   225000.0  210673.0  0.06\n",
      "6    35000.0   42535.0  0.22\n",
      "7    89990.0   47238.0  0.48\n",
      "8   375000.0  285278.0  0.24\n",
      "9    98500.0   93233.0  0.05\n",
      "10  117000.0   96678.0  0.17\n",
      "11  330000.0  563234.0  0.71\n",
      "12  142000.0  122508.0  0.14\n",
      "13   73001.0   77779.0  0.07\n",
      "14  190165.0  132043.0  0.31\n",
      "15  110000.0   70132.0  0.36\n",
      "16   95500.0   16557.0  0.83\n",
      "17  118000.0   71735.0  0.39\n",
      "18  175000.0  146772.0  0.16\n",
      "19   82000.0   94416.0  0.15\n",
      "          GOLD      PRED  ERR%\n",
      "7897   87786.0   90524.0  0.03\n",
      "7898   29800.0   23729.0  0.20\n",
      "7899  109177.0  140300.0  0.29\n",
      "7900   46900.0   99892.0  1.13\n",
      "7901   76500.0  100812.0  0.32\n",
      "7902   60000.0   29888.0  0.50\n",
      "7903   89000.0  104010.0  0.17\n",
      "7904  125000.0  109223.0  0.13\n",
      "7905   43499.0   20773.0  0.52\n",
      "7906  177000.0  198444.0  0.12\n",
      "7907  145000.0  162844.0  0.12\n",
      "7908  310000.0  552486.0  0.78\n",
      "7909  260000.0  160999.0  0.38\n",
      "7910  269000.0  153279.0  0.43\n",
      "7911   95000.0   41518.0  0.56\n",
      "7912   69300.0  145357.0  1.10\n",
      "7913  166999.0  103629.0  0.38\n",
      "7914   24950.0    3646.0  0.85\n",
      "7915  139000.0  103456.0  0.26\n",
      "7916   69300.0   59511.0  0.14\n",
      "Overall error: 40.0%\n"
     ]
    },
    {
     "data": {
      "text/plain": [
       "0.39957435604374486"
      ]
     },
     "execution_count": 59,
     "metadata": {},
     "output_type": "execute_result"
    }
   ],
   "source": [
    "evaluate(\n",
    "    theta=theta,\n",
    "    inputs=x_trn,\n",
    "    gold=y_trn,\n",
    "    y_div=y_norm_div,\n",
    "    y_sub=y_norm_sub,\n",
    "    name='TRAIN',\n",
    ")"
   ]
  },
  {
   "cell_type": "code",
   "execution_count": 60,
   "id": "23949b5f",
   "metadata": {},
   "outputs": [
    {
     "name": "stdout",
     "output_type": "stream",
     "text": [
      "Results for TEST\n",
      "        GOLD      PRED  ERR%\n",
      "0   149000.0  124336.0  0.17\n",
      "1   220000.0  189586.0  0.14\n",
      "2    83000.0   56908.0  0.31\n",
      "3    64500.0  135260.0  1.10\n",
      "4   155000.0  222678.0  0.44\n",
      "5    76500.0   69577.0  0.09\n",
      "6   229000.0  267597.0  0.17\n",
      "7    52500.0   30711.0  0.42\n",
      "8    51500.0   81146.0  0.58\n",
      "9    85900.0   53538.0  0.38\n",
      "10  164500.0  193663.0  0.18\n",
      "11   56000.0   61063.0  0.09\n",
      "12  175000.0  120771.0  0.31\n",
      "13  435000.0  242589.0  0.44\n",
      "14  278000.0  336500.0  0.21\n",
      "15   83500.0   88725.0  0.06\n",
      "16   53800.0   46212.0  0.14\n",
      "17  115000.0  105838.0  0.08\n",
      "18   44000.0   47964.0  0.09\n",
      "19  599900.0  428817.0  0.29\n",
      "          GOLD      PRED  ERR%\n",
      "1960   66026.0  104166.0  0.58\n",
      "1961   67466.0   35428.0  0.47\n",
      "1962  145000.0  221818.0  0.53\n",
      "1963   68500.0   68566.0  0.00\n",
      "1964   98000.0  124084.0  0.27\n",
      "1965  147000.0   97862.0  0.33\n",
      "1966   84000.0  135875.0  0.62\n",
      "1967   74900.0   96597.0  0.29\n",
      "1968  570000.0  609825.0  0.07\n",
      "1969   44748.0   53669.0  0.20\n",
      "1970  107000.0  160381.0  0.50\n",
      "1971  551327.0  817546.0  0.48\n",
      "1972  570000.0  605796.0  0.06\n",
      "1973   89000.0  111238.0  0.25\n",
      "1974   77000.0   56389.0  0.27\n",
      "1975  105000.0  168258.0  0.60\n",
      "1976   95000.0   71038.0  0.25\n",
      "1977   56000.0   26448.0  0.53\n",
      "1978   39000.0   69573.0  0.78\n",
      "1979  135000.0  186245.0  0.38\n",
      "Overall error: 40.1%\n"
     ]
    },
    {
     "data": {
      "text/plain": [
       "0.401408944298091"
      ]
     },
     "execution_count": 60,
     "metadata": {},
     "output_type": "execute_result"
    }
   ],
   "source": [
    "evaluate(\n",
    "    theta=theta,\n",
    "    inputs=x_tst,\n",
    "    gold=y_tst,\n",
    "    y_div=y_norm_div,\n",
    "    y_sub=y_norm_sub,\n",
    "    name='TEST',\n",
    ")"
   ]
  },
  {
   "cell_type": "markdown",
   "id": "9c30094a",
   "metadata": {},
   "source": [
    "# Simple Neural model\n"
   ]
  },
  {
   "cell_type": "code",
   "execution_count": 61,
   "id": "3c0b3146",
   "metadata": {},
   "outputs": [],
   "source": [
    "import torch as th\n",
    "\n",
    "class SimpleLinerRealEstateModel(th.nn.Module):\n",
    "    def __init__(self, n_feats, n_hid1=32):\n",
    "        super().__init__()\n",
    "        self.hidden1 = th.nn.Linear(n_feats, n_hid1)\n",
    "        self.act1 = th.nn.ReLU()\n",
    "        self.readout = th.nn.Linear(n_hid1, 1)\n",
    "        return\n",
    "    \n",
    "    def forward(self, inputs):\n",
    "        #############################\n",
    "        # TODO: complete forward pass \n",
    "        #############################\n",
    "        th_x = self.hidden1(inputs)\n",
    "        th_x = self.act1(th_x)\n",
    "        th_out = self.readout(th_x)\n",
    "        return th_out\n"
   ]
  },
  {
   "cell_type": "code",
   "execution_count": 62,
   "id": "3f04db1c",
   "metadata": {},
   "outputs": [
    {
     "data": {
      "text/plain": [
       "SimpleLinerRealEstateModel(\n",
       "  (hidden1): Linear(in_features=8, out_features=256, bias=True)\n",
       "  (act1): ReLU()\n",
       "  (readout): Linear(in_features=256, out_features=1, bias=True)\n",
       ")"
      ]
     },
     "execution_count": 62,
     "metadata": {},
     "output_type": "execute_result"
    }
   ],
   "source": [
    "model = SimpleLinerRealEstateModel(8, 256)\n",
    "model"
   ]
  },
  {
   "cell_type": "code",
   "execution_count": 63,
   "id": "529403ba",
   "metadata": {},
   "outputs": [
    {
     "data": {
      "text/plain": [
       "(7917, 9)"
      ]
     },
     "execution_count": 63,
     "metadata": {},
     "output_type": "execute_result"
    }
   ],
   "source": [
    "x_trn.shape"
   ]
  },
  {
   "cell_type": "code",
   "execution_count": 64,
   "id": "5b89a90c",
   "metadata": {},
   "outputs": [
    {
     "data": {
      "text/plain": [
       "(1980, 9)"
      ]
     },
     "execution_count": 64,
     "metadata": {},
     "output_type": "execute_result"
    }
   ],
   "source": [
    "x_tst.shape"
   ]
  },
  {
   "cell_type": "markdown",
   "id": "a08818e3",
   "metadata": {},
   "source": [
    "### Introducing \"dev\" dataset\n",
    "Now we will have a training process so we need a dev dataset"
   ]
  },
  {
   "cell_type": "code",
   "execution_count": 65,
   "id": "0569152f",
   "metadata": {},
   "outputs": [
    {
     "data": {
      "text/plain": [
       "(990, 9)"
      ]
     },
     "execution_count": 65,
     "metadata": {},
     "output_type": "execute_result"
    }
   ],
   "source": [
    "DEV_PRC = 0.5\n",
    "DEV_SIZE = int(x_tst.shape[0] * DEV_PRC)\n",
    "x_dev = x_tst[:DEV_SIZE,:]\n",
    "x_test = x_tst[DEV_SIZE:,:]\n",
    "x_dev.shape"
   ]
  },
  {
   "cell_type": "markdown",
   "id": "3b6f8257",
   "metadata": {},
   "source": [
    "Now we tensorize but we eliminate the bias term "
   ]
  },
  {
   "cell_type": "code",
   "execution_count": 67,
   "id": "4fd8d430",
   "metadata": {},
   "outputs": [
    {
     "name": "stdout",
     "output_type": "stream",
     "text": [
      "<class 'numpy.ndarray'>\n",
      "<class 'torch.Tensor'>\n"
     ]
    }
   ],
   "source": [
    "\n",
    "th_x_trn = th.tensor(x_trn[:,:-1], dtype=th.float32)\n",
    "th_x_dev = th.tensor(x_dev[:,:-1], dtype=th.float32)\n",
    "th_x_test = th.tensor(x_test[:,:-1], dtype=th.float32)\n",
    "print(type(x_trn))\n",
    "print(type(th_x_trn))"
   ]
  },
  {
   "cell_type": "code",
   "execution_count": 68,
   "id": "4c709742",
   "metadata": {},
   "outputs": [
    {
     "data": {
      "text/plain": [
       "array([[0.01],\n",
       "       [0.01],\n",
       "       [0.02],\n",
       "       [0.02],\n",
       "       [0.01],\n",
       "       [0.05],\n",
       "       [0.  ],\n",
       "       [0.02],\n",
       "       [0.09],\n",
       "       [0.02]])"
      ]
     },
     "execution_count": 68,
     "metadata": {},
     "output_type": "execute_result"
    }
   ],
   "source": [
    "y_dev = y_tst[:1000].reshape(-1,1)\n",
    "y_test = y_tst[1000:].reshape(-1,1)\n",
    "y_trn = y_trn.reshape(-1,1)\n",
    "y_trn[:10]"
   ]
  },
  {
   "cell_type": "code",
   "execution_count": 69,
   "id": "ebdf46cf",
   "metadata": {},
   "outputs": [
    {
     "data": {
      "text/plain": [
       "tensor([[0.0095],\n",
       "        [0.0111],\n",
       "        [0.0208],\n",
       "        [0.0168],\n",
       "        [0.0133],\n",
       "        [0.0536],\n",
       "        [0.0044],\n",
       "        [0.0186],\n",
       "        [0.0924],\n",
       "        [0.0208],\n",
       "        [0.0256],\n",
       "        [0.0808],\n",
       "        [0.0321],\n",
       "        [0.0142],\n",
       "        [0.0446],\n",
       "        [0.0238],\n",
       "        [0.0201],\n",
       "        [0.0259],\n",
       "        [0.0407],\n",
       "        [0.0166]])"
      ]
     },
     "execution_count": 69,
     "metadata": {},
     "output_type": "execute_result"
    }
   ],
   "source": [
    "#############################\n",
    "# TODO: complete y tensors creation \n",
    "#############################\n",
    "th_y_trn = th.tensor(y_trn, dtype=th.float32)\n",
    "th_y_dev = th.tensor(y_dev, dtype=th.float32)\n",
    "th_y_test = th.tensor(y_test, dtype=th.float32)\n",
    "th_y_trn[:20]"
   ]
  },
  {
   "cell_type": "markdown",
   "id": "f77b4331",
   "metadata": {},
   "source": [
    "### Model training data feed\n",
    "Now lets prepare the internal mechanics for data feeding in the model training process"
   ]
  },
  {
   "cell_type": "code",
   "execution_count": 70,
   "id": "9c69ec4a",
   "metadata": {},
   "outputs": [],
   "source": [
    "BATCH_SIZE = 16\n",
    "th_ds = th.utils.data.TensorDataset(th_x_trn, th_y_trn)\n",
    "th_dl = th.utils.data.DataLoader(th_ds, batch_size=BATCH_SIZE)"
   ]
  },
  {
   "cell_type": "code",
   "execution_count": 72,
   "id": "a4403fa8",
   "metadata": {},
   "outputs": [
    {
     "name": "stdout",
     "output_type": "stream",
     "text": [
      "torch.Size([16, 8])\n",
      "torch.Size([16, 1])\n",
      "tensor([[-5.3209e-01, -1.9179e-01, -3.7916e-01],\n",
      "        [ 5.2008e-01, -2.1669e-01, -3.7916e-01],\n",
      "        [-5.3209e-01, -1.6690e-01, -3.7916e-01],\n",
      "        [ 5.2008e-01, -3.7003e-04, -3.7916e-01],\n",
      "        [ 5.2008e-01,  1.7512e-01, -3.7916e-01]])\n"
     ]
    }
   ],
   "source": [
    "for th_x_batch, th_y_batch in th_dl:\n",
    "    break\n",
    "print(th_x_batch.shape)\n",
    "print(th_y_batch.shape)\n",
    "print(th_x_batch[:5,:3])"
   ]
  },
  {
   "cell_type": "code",
   "execution_count": 73,
   "id": "6acae2db",
   "metadata": {},
   "outputs": [
    {
     "data": {
      "text/plain": [
       "torch.Size([16, 8])"
      ]
     },
     "execution_count": 73,
     "metadata": {},
     "output_type": "execute_result"
    }
   ],
   "source": [
    "th_x_batch.shape"
   ]
  },
  {
   "cell_type": "code",
   "execution_count": 74,
   "id": "1b42bc3b",
   "metadata": {},
   "outputs": [
    {
     "data": {
      "text/plain": [
       "torch.Size([16, 1])"
      ]
     },
     "execution_count": 74,
     "metadata": {},
     "output_type": "execute_result"
    }
   ],
   "source": [
    "th_y_batch.shape"
   ]
  },
  {
   "cell_type": "markdown",
   "id": "07608473",
   "metadata": {},
   "source": [
    "Re-writing evaluation function"
   ]
  },
  {
   "cell_type": "code",
   "execution_count": 75,
   "id": "839bc749",
   "metadata": {},
   "outputs": [],
   "source": [
    "\n",
    "def th_evaluate(m, th_inputs, gold, y_div, y_sub, name=\"\", verbose=False):\n",
    "    m.eval()\n",
    "    with th.no_grad():\n",
    "        #############################\n",
    "        # TODO: complete yhat generation \n",
    "        #############################            \n",
    "        _y_pred = m(th_inputs)\n",
    "        \n",
    "    _y_vals = _y_pred * y_div + y_sub\n",
    "    \n",
    "    _y_true = gold * y_div + y_sub\n",
    "    \n",
    "    res_err = np.abs(_y_true - _y_vals.numpy())\n",
    "    prc_err = res_err / _y_true\n",
    "    \n",
    "    overall = prc_err.mean()\n",
    "    if verbose:\n",
    "        df_result = pd.DataFrame(\n",
    "            {\n",
    "            'GOLD' : _y_true.ravel(),\n",
    "            'PRED' : _y_vals.ravel().round(0),\n",
    "            'ERR%' : prc_err.ravel().round(2)\n",
    "            }\n",
    "        )\n",
    "        print('Results for', name)\n",
    "        print(df_result.head(20))\n",
    "        print(df_result.tail(20))    \n",
    "    m.train()\n",
    "    return overall"
   ]
  },
  {
   "cell_type": "code",
   "execution_count": 76,
   "id": "f196fb21",
   "metadata": {},
   "outputs": [
    {
     "data": {
      "text/plain": [
       "Adam (\n",
       "Parameter Group 0\n",
       "    amsgrad: False\n",
       "    betas: (0.9, 0.999)\n",
       "    capturable: False\n",
       "    eps: 1e-08\n",
       "    foreach: None\n",
       "    lr: 5e-05\n",
       "    maximize: False\n",
       "    weight_decay: 0\n",
       ")"
      ]
     },
     "execution_count": 76,
     "metadata": {},
     "output_type": "execute_result"
    }
   ],
   "source": [
    "loss_func = th.nn.MSELoss()\n",
    "# optimizer: weights = weights - alpha * grads # alpha << 1\n",
    "opt = th.optim.Adam(model.parameters(), lr=5e-5)\n",
    "opt"
   ]
  },
  {
   "cell_type": "code",
   "execution_count": null,
   "id": "8d83dac7",
   "metadata": {
    "scrolled": false
   },
   "outputs": [],
   "source": [
    "DEBUG = True\n",
    "TOTAL_NR_EPOCHS = 100\n",
    "# re-init model\n",
    "model = SimpleLinerRealEstateModel(8, 256)\n",
    "best_dev_err = 100\n",
    "wait_time = 0\n",
    "max_nr_of_succesive_fails = 2\n",
    "for epoch in range(TOTAL_NR_EPOCHS):\n",
    "    if DEBUG and epoch >0:\n",
    "        break\n",
    "    for th_x_batch, th_y_batch in th_dl:\n",
    "        # compute current inferred values with forward prop\n",
    "        th_y_hat = model(th_x_batch)\n",
    "        # compute loss (compare results with actual truth)\n",
    "        th_loss = loss_func(input=th_y_hat, target=th_y_batch) #((th_y_hat - th_y_batch)**2).mean()\n",
    "        # nullfy the gradients\n",
    "        opt.zero_grad()\n",
    "        # compute loss 1st derv wrt all model weights (grads)\n",
    "        th_loss.backward()\n",
    "        \n",
    "        if DEBUG:\n",
    "            th_param = next(model.parameters())\n",
    "            print(th_param.grad)\n",
    "            break\n",
    "        \n",
    "        # apply gradients to weights with a hopefully smart approach\n",
    "        opt.step()\n",
    "    if not DEBUG:\n",
    "        # now we evaluate on TRAIN and DEV to see how good we are\n",
    "        th_evaluate(\n",
    "            m=model,\n",
    "            th_inputs=th_x_trn,\n",
    "            gold=y_trn,\n",
    "            y_div=y_norm_div,\n",
    "            y_sub=y_norm_sub,\n",
    "            verbose=False,\n",
    "            name='TRAIN @ Epoch {}'.format(epoch)\n",
    "        )\n",
    "        dev_err = th_evaluate(\n",
    "            m=model,\n",
    "            th_inputs=th_x_dev,\n",
    "            gold=y_dev,\n",
    "            y_div=y_norm_div,\n",
    "            y_sub=y_norm_sub,\n",
    "            verbose=False,\n",
    "            name='DEV @ Epoch {}'.format(epoch)\n",
    "        )\n",
    "        if best_dev_err > dev_err:\n",
    "            best_dev_err = dev_err\n",
    "            wait_time = 0\n",
    "            print(\"BEST MODEL @ Epoch {}\".format(epoch))\n",
    "        else:\n",
    "            wait_time += 1\n",
    "            if wait_time > max_nr_of_succesive_fails:\n",
    "                print(\"STOP TRAINING !\")\n",
    "                break\n",
    "\n",
    "if not DEBUG: \n",
    "    # finally we evaluate on TEST\n",
    "    th_evaluate(\n",
    "        m=model,\n",
    "        th_inputs=th_x_test,\n",
    "        gold=y_test,\n",
    "        y_div=y_norm_div,\n",
    "        y_sub=y_norm_sub,\n",
    "        verbose=True,\n",
    "        name='Final TEST'\n",
    "    )\n"
   ]
  },
  {
   "cell_type": "code",
   "execution_count": null,
   "id": "800184a4",
   "metadata": {},
   "outputs": [],
   "source": []
  },
  {
   "cell_type": "code",
   "execution_count": null,
   "id": "addfbade",
   "metadata": {},
   "outputs": [],
   "source": [
    "import torch as th\n",
    "\n",
    "class BetterLinerRealEstateModel(th.nn.Module):\n",
    "    def __init__(self, n_input_feats, layers=[32], activation=th.nn.ReLU):\n",
    "        super().__init__()\n",
    "        self.layers = th.nn.ModuleList()\n",
    "        n_prev = n_input_feats\n",
    "        for layer_size in layers:\n",
    "            hid = th.nn.Linear(n_prev, layer_size)\n",
    "            act = activation()\n",
    "            self.layers.append(hid)\n",
    "            self.layers.append(act)\n",
    "            n_prev = layer_size\n",
    "        \n",
    "        self.readout = th.nn.Linear(n_prev, 1)\n",
    "        return\n",
    "    \n",
    "    def forward(self, inputs):\n",
    "        th_x = inputs\n",
    "        for layer in self.layers:\n",
    "            th_x = layer(th_x)\n",
    "        th_out = self.readout(th_x)\n",
    "        return th_out\n",
    "\n",
    "test_model = BetterLinerRealEstateModel(8, [100, 10], activation=th.nn.Sigmoid)\n",
    "test_model"
   ]
  },
  {
   "cell_type": "markdown",
   "id": "c8600f1f",
   "metadata": {},
   "source": [
    "### Even closer to production grade experiments: model factories\n",
    "Now we prepare a basic model factory"
   ]
  },
  {
   "cell_type": "code",
   "execution_count": null,
   "id": "f1976c44",
   "metadata": {},
   "outputs": [],
   "source": [
    "def get_model_and_optimizer(layers, activation, opt_class, lr):\n",
    "    model = BetterLinerRealEstateModel(8, layers, activation)\n",
    "    opt = opt_class(model.parameters(), lr=lr)\n",
    "    return model, opt\n",
    "\n",
    "#############################\n",
    "# TODO: create a example model\n",
    "#############################   \n",
    "test_model, test_opt = get_model_and_optimizer(layers=None, activation=None, opt_class= th.optim.SGD, lr=0.01)\n",
    "test_model"
   ]
  },
  {
   "cell_type": "markdown",
   "id": "657e9b2d",
   "metadata": {},
   "source": [
    "### Grid search\n",
    "Next step is grid searching"
   ]
  },
  {
   "cell_type": "code",
   "execution_count": null,
   "id": "99d4b641",
   "metadata": {},
   "outputs": [],
   "source": []
  }
 ],
 "metadata": {
  "kernelspec": {
   "display_name": "Python 3 (ipykernel)",
   "language": "python",
   "name": "python3"
  },
  "language_info": {
   "codemirror_mode": {
    "name": "ipython",
    "version": 3
   },
   "file_extension": ".py",
   "mimetype": "text/x-python",
   "name": "python",
   "nbconvert_exporter": "python",
   "pygments_lexer": "ipython3",
   "version": "3.10.9"
  }
 },
 "nbformat": 4,
 "nbformat_minor": 5
}
